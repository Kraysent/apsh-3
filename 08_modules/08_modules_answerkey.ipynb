{
 "cells": [
  {
   "cell_type": "markdown",
   "metadata": {},
   "source": [
    "# Внешние модули\n",
    "\n",
    "Пока что весь код, который мы писали, был написан исключительно нами. Мы умеем его разбивать на функции и модули, переиспользовать в разных ноутбуках, но всё равно всё это было написано нашими пальцами. Тем не менее, программирование, в первую очередь - это про коллаборацию и не переписывание одного и того же кода разными людьми (aka переизобретение велосипедов).\n",
    "\n",
    "Модули бывают не только те, что мы пишем руками, но и внешние. Часть этих модулей установлена в Python сразу, например - модуль `math`:"
   ]
  },
  {
   "cell_type": "code",
   "execution_count": null,
   "metadata": {},
   "outputs": [],
   "source": [
    "import math\n",
    "\n",
    "print(math.pow(11, 5))\n",
    "print(math.sqrt(121))\n",
    "print(math.ceil(6239.3671367))\n",
    "print(math.floor(6239.3671367))\n",
    "print(math.log10(100))\n",
    "print(math.sin(math.pi))\n",
    "print(math.cos(3/4 * math.pi))\n",
    "print(math.log(math.e))"
   ]
  },
  {
   "cell_type": "markdown",
   "metadata": {},
   "source": [
    "Синтаксис точно такой же, как и у локальных модулей, но разница только в том, что рядом с ноутбуком нет никакого файла `math.py`. Этот модуль предустановлен в Python и доступен в любой файле, вне зависимости от того, где он находится. В этом и есть главное преимущество модулей - для их использования не нужно делать никаких действий, кроме написания `import`, и они предоставляют большое количество дополнительной функциональности."
   ]
  },
  {
   "cell_type": "markdown",
   "metadata": {},
   "source": [
    "Посмотрим теперь ещё на один модуль - `matplotlib`, который позволяет строить графики прямо в ноутбуке. Этот модуль не встроен в Python - его надо устанавливать отдельно при помощи `pip`. На ваших компьютерах он уже должен быть установлен для экономии времени, но на других компьютерах его можно установить при помощи команды\n",
    "```shell\n",
    "pip install matplotlib\n",
    "```\n",
    "\n",
    "Это очень мощный модуль, позволяющий строить графики произвольной сложности, которые так же можно сделать интерактивными. Всё что нам нужно - предоставить набор точек, которые надо построить:"
   ]
  },
  {
   "cell_type": "code",
   "execution_count": null,
   "metadata": {},
   "outputs": [],
   "source": [
    "from matplotlib import pyplot as plt\n",
    "\n",
    "x = [1, 2, 3, 4, 5, 6, 7, 8, 9]\n",
    "y = [0, 0.84, 0.91, 0.14, -0.76, -0.96, -0.28, 0.66, 0.99]\n",
    "\n",
    "plt.plot(x, y)"
   ]
  },
  {
   "cell_type": "markdown",
   "metadata": {},
   "source": [
    "Разберём саму функцию подробнее:\n",
    "\n",
    "```python\n",
    "plt.plot(x, y)\n",
    "```\n",
    "\n",
    "Она принимает два аргумента, оба - обычно списки. Кроме того, она так же может принимать дополнительные параметры, позволяющие изменять вид графика. Среди таких параметров:\n",
    "- `marker` - вид точки, которая будет показываться. Может быть `.`, `,`, `o` и так далее - для разных видов маркеров. Полный список есть на [этой странице](https://matplotlib.org/stable/api/markers_api.html#module-matplotlib.markers).\n",
    "- `linestyle` - вид линии, соединяющей между собой точки. Может быть `-`, `--`, `-.`, `:` или `none`. Полный список есть на [этой странице](https://matplotlib.org/stable/api/_as_gen/matplotlib.lines.Line2D.html#matplotlib.lines.Line2D.set_linestyle).\n",
    "- `color` - цвет линий и точек. Обычно выглядит как первая буква цвета - `b` (голубой), `g` (зелёный), `r` (красный), `w` (белый) и так далее. Полный список [вот тут](https://matplotlib.org/stable/api/_as_gen/matplotlib.lines.Line2D.html#matplotlib.lines.Line2D.set_linestyle).\n",
    "\n",
    "Дополнительные параметры - это ещё один способ передавать аргументы в функцию, Раньше мы передавали их в строгом порядке:\n",
    "\n",
    "```python\n",
    "my_func(x, y, z, name)\n",
    "```\n",
    "\n",
    "На самом деле, помимо аргументов, которые требуют явного порядка, существуют так же аргументы, которые являются необязательными и, если мы хотим их указать, надо явным образом указывать их имя:\n",
    "```python\n",
    "my_func_2(x, y, z, arg1=name, arg2=city)\n",
    "```\n",
    "\n",
    "Посмотрим на это на примере функции `plot`:"
   ]
  },
  {
   "cell_type": "code",
   "execution_count": null,
   "metadata": {},
   "outputs": [],
   "source": [
    "from matplotlib import pyplot as plt\n",
    "import math\n",
    "\n",
    "def sigmoid(x: float) -> float:\n",
    "    return 1 / (1 + math.exp(-x))\n",
    "\n",
    "x = []\n",
    "y = []\n",
    "\n",
    "for i in range(-50, 50):\n",
    "    curr_x = i / 2\n",
    "    x.append(curr_x)\n",
    "    y.append(sigmoid(curr_x))\n",
    "\n",
    "print(x, y)\n",
    "\n",
    "plt.plot(x, y, color='m', linestyle='--', marker='x') # тут указаны опциональные аргументы - color, linestyle, marker. Функция будет работать и без них, просто график будет не такой красивый.\n"
   ]
  },
  {
   "cell_type": "markdown",
   "metadata": {},
   "source": [
    "<div class=\"alert alert-block alert-warning\" style=\"margin-top: 20px\">\n",
    "\n",
    "<font size=4>**Задание 1**</font>\n",
    "\n",
    "Нарисовать график высоты материальной точки, падающей под действием гравитации, от времени. Входных параметров несколько: $y_0$ - высота падения, $v_0$ - начальная скорость, $g$ - ускорение свободного падения.\n",
    "\n",
    "<details>\n",
    "<summary>Если кто вдруг забыл формулу</summary>\n",
    "\n",
    "$$\n",
    "y(t) = y_0 + v_0 t - \\frac{g t^2}{2}\n",
    "$$\n",
    "\n",
    "</details>\n",
    "\n",
    "</div>"
   ]
  },
  {
   "cell_type": "code",
   "execution_count": null,
   "metadata": {},
   "outputs": [],
   "source": [
    "from matplotlib import pyplot as plt\n",
    "\n",
    "def y_motion(t: float, y0: float, v0: float, g: float) -> float:\n",
    "    return y0 + v0 * t - 0.5 * g * t ** 2\n",
    "\n",
    "y0 = 100.0\n",
    "v0 = 0.0\n",
    "g = 9.8\n",
    "\n",
    "t_values: list[float] = []\n",
    "for i in range(0, 51):\n",
    "    t_values.append(i * 0.1)\n",
    "\n",
    "y_values: list[float] = []\n",
    "for t in t_values:\n",
    "    y_values.append(y_motion(t, y0, v0, g))\n",
    "\n",
    "plt.plot(t_values, y_values, color='b', linestyle='-', marker='o')\n"
   ]
  }
 ],
 "metadata": {
  "kernelspec": {
   "display_name": ".venv",
   "language": "python",
   "name": "python3"
  },
  "language_info": {
   "codemirror_mode": {
    "name": "ipython",
    "version": 3
   },
   "file_extension": ".py",
   "mimetype": "text/x-python",
   "name": "python",
   "nbconvert_exporter": "python",
   "pygments_lexer": "ipython3",
   "version": "3.13.2"
  }
 },
 "nbformat": 4,
 "nbformat_minor": 2
}
