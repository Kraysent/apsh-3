{
 "cells": [
  {
   "cell_type": "markdown",
   "metadata": {},
   "source": [
    "# Зачем мы тут?\n",
    "\n",
    "TODO тут объяснение, зачем вообще нужно программирование\n",
    "\n",
    "# Почему Python?\n",
    "\n",
    "TODO тут объяснение, почему именно Python\n",
    "\n",
    "> Python is the second best language for everything"
   ]
  },
  {
   "cell_type": "markdown",
   "metadata": {},
   "source": [
    "# Переменные\n",
    "\n",
    "Основная задача программирования - что-то посчитать. Чтобы это сделать, компьютеру надо объяснить две вещи:\n",
    "- Откуда взять данные, над которыми провести расчёты\n",
    "- Куда положить результат расчётов\n",
    "\n",
    "Для этого и нужны переменные - это способ сообщить языку программирования, что у тебя в ячейке памяти лежит какое-то значение.\n",
    "\n",
    "![](image.png)\n",
    "\n",
    "Переменные специальным образом хранятся в оперативной памяти компьютера, но сейчас это не важно - можно туда о них как о коробках, в которые можно положить какое-то значение. Это значение может быть чем угодно - число, картинка, строка текста, видео или нечитаемый набор символов."
   ]
  },
  {
   "cell_type": "markdown",
   "metadata": {},
   "source": [
    "Для объявления переменных используется синтаксис `<имя переменной> = <значение переменной>`. Чтобы вывести переменную в ноутбуках, достаточно просто поставить её последней строкой. Например:"
   ]
  },
  {
   "cell_type": "code",
   "execution_count": 1,
   "metadata": {},
   "outputs": [
    {
     "data": {
      "text/plain": [
       "4"
      ]
     },
     "execution_count": 1,
     "metadata": {},
     "output_type": "execute_result"
    }
   ],
   "source": [
    "a = 4\n",
    "\n",
    "a"
   ]
  },
  {
   "cell_type": "markdown",
   "metadata": {},
   "source": [
    "Переменные бывают нескольких основных типов:\n",
    "- Целые числа\n",
    "- Нецелые числа\n",
    "- Строки (о них позже)\n",
    "- Булевые значения (о них тоже позже)\n",
    "\n",
    "Сначала рассмотрим целые числа чуть подробнее. "
   ]
  },
  {
   "cell_type": "code",
   "execution_count": 2,
   "metadata": {},
   "outputs": [
    {
     "data": {
      "text/plain": [
       "(4, 5, 15, 5)"
      ]
     },
     "execution_count": 2,
     "metadata": {},
     "output_type": "execute_result"
    }
   ],
   "source": [
    "# так же как выше - целые числа\n",
    "\n",
    "a = 4\n",
    "b = 5\n",
    "c = 7 + 8 # переменные могут принимать значения из арифметических операций\n",
    "d = b # переменные могут принимать значение из другой переменной\n",
    "\n",
    "a, b, c, d"
   ]
  },
  {
   "cell_type": "markdown",
   "metadata": {},
   "source": [
    "<div class=\"alert alert-block alert-info\" style=\"margin-top: 20px\">\n",
    "\n",
    "<font size=4>**Примечание**</font>     \n",
    "\n",
    "Переменные могут иметь очень произвольные названия - от очень длинных до очень коротких, с цифрами или без. Основные правила следующие:\n",
    "- В состав имени должны выходить буквы (большие или маленькие), цифры и нижние подчёркивания. Знаки препинания - нельзя. `my_really6_long9_variable = 5` - совершенно валидное имя переменной.\n",
    "- Название переменной не должно начинаться с цифры. `5five6six = 1 + 5` - невалидное выражение.\n",
    "- Регистр (большая буква или маленькая) буквы важен: `haha = 4` и `HaHa = 4` - разные переменные.\n",
    "- Имя переменной не должно быть одним из зарезервированных слов. Их достаточно много, но основные - `def`, `class`, `for`, `while` и прочие. \n",
    "    <details>\n",
    "    <summary>Их полный список</summary>\n",
    "\n",
    "    ```\n",
    "    False\n",
    "    None\n",
    "    True\n",
    "    and\n",
    "    as\n",
    "    assert\n",
    "    async\n",
    "    await\n",
    "    break\n",
    "    class\n",
    "    continue\n",
    "    def\n",
    "    del\n",
    "    elif\n",
    "    else\n",
    "    except\n",
    "    finally\n",
    "    for\n",
    "    from\n",
    "    global\n",
    "    if\n",
    "    import\n",
    "    in\n",
    "    is\n",
    "    lambda\n",
    "    nonlocal\n",
    "    not\n",
    "    or\n",
    "    pass\n",
    "    raise\n",
    "    return\n",
    "    try\n",
    "    while\n",
    "    with\n",
    "    yield\n",
    "    ```\n",
    "\n",
    "    </details>\n",
    "</div>"
   ]
  },
  {
   "cell_type": "markdown",
   "metadata": {},
   "source": [
    "Основная цель программирования? Подсчёты. Давайте считать."
   ]
  },
  {
   "cell_type": "code",
   "execution_count": 3,
   "metadata": {},
   "outputs": [
    {
     "data": {
      "text/plain": [
       "(19, 60, 6.0)"
      ]
     },
     "execution_count": 3,
     "metadata": {},
     "output_type": "execute_result"
    }
   ],
   "source": [
    "x = a + c\n",
    "y = b + d + 50\n",
    "z = y / 10\n",
    "\n",
    "x, y, z"
   ]
  },
  {
   "cell_type": "markdown",
   "metadata": {},
   "source": [
    "Python поддерживает много арифметических операций:"
   ]
  },
  {
   "cell_type": "code",
   "execution_count": 4,
   "metadata": {},
   "outputs": [
    {
     "data": {
      "text/plain": [
       "(9, -10, 20, 3.0, 64, 2)"
      ]
     },
     "execution_count": 4,
     "metadata": {},
     "output_type": "execute_result"
    }
   ],
   "source": [
    "# Сложение\n",
    "a1 = a + b\n",
    "\n",
    "# Вычитание\n",
    "a2 = b - c\n",
    "\n",
    "# Умножение\n",
    "a3 = a * d\n",
    "\n",
    "# Деление\n",
    "a4 = c / b\n",
    "\n",
    "# Возведение в степень\n",
    "a5 = a ** 3\n",
    "\n",
    "# Остаток от деления на число\n",
    "a6 = b % 3\n",
    "\n",
    "a1, a2, a3, a4, a5, a6"
   ]
  },
  {
   "cell_type": "markdown",
   "metadata": {},
   "source": [
    "Аналогичным образом можно работать с нецелыми и отрицательными числами:"
   ]
  },
  {
   "cell_type": "code",
   "execution_count": 7,
   "metadata": {},
   "outputs": [
    {
     "data": {
      "text/plain": [
       "56625141562.853905"
      ]
     },
     "execution_count": 7,
     "metadata": {},
     "output_type": "execute_result"
    }
   ],
   "source": [
    "real_number = 3.1415\n",
    "another_real_number = -2.7\n",
    "real_number_3 = 2.5 * 10 ** 10\n",
    "\n",
    "real_number_3 / (real_number + another_real_number)"
   ]
  },
  {
   "cell_type": "markdown",
   "metadata": {},
   "source": [
    "<div class=\"alert alert-block alert-warning\" style=\"margin-top: 20px\">\n",
    "\n",
    "<font size=4>**Задание 1**</font>     \n",
    "\n",
    "Мы знаем формулу силы притяжения между двумя объектами:\n",
    "\n",
    "$$\n",
    "F = \\frac{G m_1 m_2}{r^2}\n",
    "$$\n",
    "\n",
    "Нужно посчитать и вывести силу притяжения между объектом массы $2 \\cdot 10^{30}$ килограмм и $6 \\cdot 10^{24}$ килограмм на расстоянии 150 млн км.\n",
    "\n",
    "Нужно заполнить все места с `...`.\n",
    "\n",
    "</div>"
   ]
  },
  {
   "cell_type": "code",
   "execution_count": null,
   "metadata": {},
   "outputs": [
    {
     "ename": "TypeError",
     "evalue": "unsupported operand type(s) for ^: 'float' and 'int'",
     "output_type": "error",
     "traceback": [
      "\u001b[31m---------------------------------------------------------------------------\u001b[39m",
      "\u001b[31mTypeError\u001b[39m                                 Traceback (most recent call last)",
      "\u001b[36mCell\u001b[39m\u001b[36m \u001b[39m\u001b[32mIn[17]\u001b[39m\u001b[32m, line 1\u001b[39m\n\u001b[32m----> \u001b[39m\u001b[32m1\u001b[39m G = \u001b[32;43m6.67\u001b[39;49m\u001b[43m \u001b[49m\u001b[43m*\u001b[49m\u001b[43m \u001b[49m\u001b[32;43m10\u001b[39;49m\u001b[43m^\u001b[49m\u001b[43m-\u001b[49m\u001b[32;43m11\u001b[39;49m\n\u001b[32m      2\u001b[39m m1 = ...\n\u001b[32m      3\u001b[39m m2 = ...\n",
      "\u001b[31mTypeError\u001b[39m: unsupported operand type(s) for ^: 'float' and 'int'"
     ]
    }
   ],
   "source": [
    "G = ...\n",
    "m1 = ...\n",
    "m2 = ...\n",
    "r = 150_000_000_000\n",
    "\n",
    "F = ...\n",
    "\n",
    "F"
   ]
  },
  {
   "cell_type": "code",
   "execution_count": null,
   "metadata": {},
   "outputs": [],
   "source": []
  }
 ],
 "metadata": {
  "kernelspec": {
   "display_name": ".venv",
   "language": "python",
   "name": "python3"
  },
  "language_info": {
   "codemirror_mode": {
    "name": "ipython",
    "version": 3
   },
   "file_extension": ".py",
   "mimetype": "text/x-python",
   "name": "python",
   "nbconvert_exporter": "python",
   "pygments_lexer": "ipython3",
   "version": "3.13.2"
  }
 },
 "nbformat": 4,
 "nbformat_minor": 2
}
