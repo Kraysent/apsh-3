{
 "cells": [
  {
   "cell_type": "markdown",
   "metadata": {},
   "source": [
    "<div class=\"alert alert-block alert-warning\" style=\"margin-top: 20px\">\n",
    "\n",
    "<font size=4>**Задание 1**</font>\n",
    "\n",
    "Пользователь вводит целое число. Нужно вывести, сколько в этом числе чётных цифр.\n",
    "\n",
    "</div>"
   ]
  },
  {
   "cell_type": "code",
   "execution_count": null,
   "metadata": {},
   "outputs": [],
   "source": [
    "number = int(input())\n",
    "\n",
    "..."
   ]
  },
  {
   "cell_type": "markdown",
   "metadata": {},
   "source": [
    "<div class=\"alert alert-block alert-warning\" style=\"margin-top: 20px\">\n",
    "\n",
    "<font size=4>**Задание 2**</font>\n",
    "\n",
    "Вывести последовательность Фибоначчи до 100-ого числа.\n",
    "\n",
    "Последовательность Фибоначчи определяется как:\n",
    "- Первое число - 0\n",
    "- Второе число - 1\n",
    "- Каждое следующее число - сумма двух предыдущих\n",
    "\n",
    "</div>"
   ]
  },
  {
   "cell_type": "code",
   "execution_count": null,
   "metadata": {},
   "outputs": [],
   "source": [
    "..."
   ]
  },
  {
   "cell_type": "markdown",
   "metadata": {},
   "source": [
    "<div class=\"alert alert-block alert-warning\" style=\"margin-top: 20px\">\n",
    "\n",
    "<font size=4>**Задание 3**</font>\n",
    "\n",
    "Пользователь загадывает число (в голове, никуда вводить его не нужно). Нужно написать алгоритм, который угадывает это число, спрашивая у пользователя только вопросы с ответом \"да\" или \"нет\".\n",
    "\n",
    "Например (ответы пользователя помечены символом `>`):\n",
    "```\n",
    "Загадай число между 1 и 100.\n",
    "Это число больше 50?\n",
    "> yes\n",
    "Это число больше 75?\n",
    "> no\n",
    "Это число больше 63?\n",
    "> да\n",
    "....\n",
    "Загаданное число - 67\n",
    "```\n",
    "\n",
    "</div>"
   ]
  },
  {
   "cell_type": "code",
   "execution_count": null,
   "metadata": {},
   "outputs": [],
   "source": [
    "..."
   ]
  },
  {
   "cell_type": "markdown",
   "metadata": {},
   "source": []
  }
 ],
 "metadata": {
  "kernelspec": {
   "display_name": ".venv",
   "language": "python",
   "name": "python3"
  },
  "language_info": {
   "codemirror_mode": {
    "name": "ipython",
    "version": 3
   },
   "file_extension": ".py",
   "mimetype": "text/x-python",
   "name": "python",
   "nbconvert_exporter": "python",
   "pygments_lexer": "ipython3",
   "version": "3.13.2"
  }
 },
 "nbformat": 4,
 "nbformat_minor": 2
}
