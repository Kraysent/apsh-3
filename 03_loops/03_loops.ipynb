{
 "cells": [
  {
   "cell_type": "markdown",
   "metadata": {},
   "source": [
    "# Циклы"
   ]
  },
  {
   "cell_type": "markdown",
   "metadata": {},
   "source": [
    "<div class=\"alert alert-block alert-warning\" style=\"margin-top: 20px\">\n",
    "\n",
    "<font size=4>**Задание 1**</font>\n",
    "\n",
    "Для каждого числа от 1 до 10 вывести \"Да\", если оно делится на 3\n",
    "\n",
    "</div>"
   ]
  },
  {
   "cell_type": "code",
   "execution_count": null,
   "metadata": {},
   "outputs": [],
   "source": [
    "..."
   ]
  },
  {
   "cell_type": "markdown",
   "metadata": {},
   "source": [
    "## `for`\n",
    "\n",
    "Для задач такого типа - сделать одно и то же действие несколько раз с потенциально разными входными данными - есть специальная конструкция. Эта конструкция - цикл. \n",
    "\n",
    "Сразу посмотрим пример:"
   ]
  },
  {
   "cell_type": "code",
   "execution_count": 3,
   "metadata": {},
   "outputs": [
    {
     "name": "stdout",
     "output_type": "stream",
     "text": [
      "Умножили на 5: 0\n",
      "Прибавили 1: 1\n",
      "Умножили на 5: 5\n",
      "Прибавили 1: 2\n",
      "Умножили на 5: 10\n",
      "Прибавили 1: 3\n",
      "Умножили на 5: 15\n",
      "Прибавили 1: 4\n",
      "Умножили на 5: 20\n",
      "Прибавили 1: 5\n",
      "Умножили на 5: 25\n",
      "Прибавили 1: 6\n",
      "Умножили на 5: 30\n",
      "Прибавили 1: 7\n",
      "Умножили на 5: 35\n",
      "Прибавили 1: 8\n",
      "Умножили на 5: 40\n",
      "Прибавили 1: 9\n",
      "Умножили на 5: 45\n",
      "Прибавили 1: 10\n",
      "А тут уже всё\n"
     ]
    }
   ],
   "source": [
    "for i in range(10):\n",
    "    print(\"Умножили на 5:\", i * 5)\n",
    "\n",
    "    print(\"Прибавили 1:\", i + 1)\n",
    "\n",
    "print(\"А тут уже всё\")"
   ]
  },
  {
   "cell_type": "markdown",
   "metadata": {},
   "source": [
    "Разберём код детальнее:\n",
    "\n",
    "1. ```python\n",
    "    for i in range(10):\n",
    "    ```\n",
    "\n",
    "    `for` - ключевое слово, говорящее \"сейчас будет цикл со следующими параметрами\".\n",
    "\n",
    "    `i` - переменная цикла. Она будет хранить в себе текущее значение, над которым будут идти операции ниже.\n",
    "\n",
    "    `in` - ключевое слово, говорящее \"`i` будет принимать значения из того, что идёт дальше\".\n",
    "\n",
    "    `range(10)` - спектр возможных значений, над которыми будет производиться повторение. В данном случае - все целые числа от 0 (включительно) до 10 (не включительно).\n",
    "2. ```python\n",
    "    print(\"Умножили на 5:\", i * 5)`\n",
    "\n",
    "    print(\"Прибавили 1:\", i + 1)\n",
    "    ```\n",
    "\n",
    "    Действие, которое будет производиться над каждым конкретным значением из спектра возможных значений (aka над переменной `i`). Должно быть отделено отступами.\n",
    "3. ```python\n",
    "    print(\"А тут уже всё\")\n",
    "    ```\n",
    "    Действие после цикла. Отступами не отделяется.\n"
   ]
  },
  {
   "cell_type": "markdown",
   "metadata": {},
   "source": [
    "Действия внутри цикла (\"тело цикла\") могут быть произвольно сложными:"
   ]
  },
  {
   "cell_type": "code",
   "execution_count": 9,
   "metadata": {},
   "outputs": [
    {
     "name": "stdout",
     "output_type": "stream",
     "text": [
      "84 - много!\n",
      "85 - много!\n",
      "86 - много!\n",
      "87 - много!\n",
      "88 - много!\n",
      "89 - много!\n",
      "89 - прям совсем много\n",
      "90 - много!\n",
      "90 - прям совсем много\n",
      "91 - много!\n",
      "91 - прям совсем много\n",
      "92 - много!\n",
      "92 - прям совсем много\n",
      "93 - много!\n",
      "93 - прям совсем много\n",
      "94 - много!\n",
      "94 - прям совсем много\n",
      "95 - много!\n",
      "95 - прям совсем много\n",
      "96 - много!\n",
      "96 - прям совсем много\n",
      "97 - много!\n",
      "97 - прям совсем много\n",
      "98 - много!\n",
      "98 - прям совсем много\n",
      "99 - много!\n",
      "99 - прям совсем много\n"
     ]
    }
   ],
   "source": [
    "first_threshold = 7000\n",
    "second_threshold = 8000\n",
    "\n",
    "for i in range(100):\n",
    "    if i ** 2 > first_threshold:\n",
    "        print(i, \"- много!\")\n",
    "    \n",
    "    if (i + 1) ** 2 > second_threshold:\n",
    "        print(i, \"- прям совсем много\")"
   ]
  },
  {
   "cell_type": "markdown",
   "metadata": {},
   "source": [
    "### Немного про `range`\n",
    "\n",
    "`range` позволяет гибко генерировать целые числа. В него можно передать разные числа и получить разные результирующие последовательности, в частности:\n",
    "\n",
    "- `range(100)` - сгенерирует ряд всех целых чисел от 0 до 99\n",
    "- `range(10, 100)` - сгенерирует ряд всех целых чисел от 10 до 99\n",
    "- `range(-1000, 95)` - сгенерирует ряд целых чисел от -1000 до 94\n",
    "- `range(0, 10, 2)` - сгенерирует ряд целых чисел от 0 до 9 с шагом 2 - `0, 2, 4, 6, 8`\n",
    "- `range(10, 0, -1)` - сгенерирует ряд целых чисел от 10 до 0 в обратном порядке - `10, 9, 8, 7, 6, 5, 4, 3, 2, 1`.\n",
    "\n",
    "`range` подробно описан в [документации Python](https://docs.python.org/2/library/functions.html#range). Самое интересное оттуда - описание используемых значений:\n",
    "\n",
    "`range(start, stop[, step])`\n",
    "- `start` - первое значение в генерируемой последовательности\n",
    "- `stop` - последнее значение в генерируемой последовательности. Включено не будет.\n",
    "- `[step]` - опциональный параметр, отвечающий за шаг последовательности.\n",
    "\n",
    "Пример более сложной последовательности:"
   ]
  },
  {
   "cell_type": "code",
   "execution_count": 10,
   "metadata": {},
   "outputs": [
    {
     "name": "stdout",
     "output_type": "stream",
     "text": [
      "100\n",
      "95\n",
      "90\n",
      "85\n",
      "80\n",
      "75\n",
      "70\n",
      "65\n",
      "60\n",
      "55\n"
     ]
    }
   ],
   "source": [
    "for i in range(100, 50, -5):\n",
    "    print(i)"
   ]
  },
  {
   "cell_type": "markdown",
   "metadata": {},
   "source": [
    "<div class=\"alert alert-block alert-warning\" style=\"margin-top: 20px\">\n",
    "\n",
    "<font size=4>**Задание 2**</font>\n",
    "\n",
    "Для последовательности чисел от 1 до 30:\n",
    "- Если число делится на 3: напечатать `fizz`\n",
    "- Если число делится на 5: напечатать `buzz`\n",
    "- Если число делится и на 3, и на 5: напечатать `fizzbuzz`\n",
    "- Если число не делится ни на что из перечисленного, вывести само число.\n",
    "\n",
    "</div>"
   ]
  },
  {
   "cell_type": "code",
   "execution_count": 11,
   "metadata": {},
   "outputs": [
    {
     "data": {
      "text/plain": [
       "Ellipsis"
      ]
     },
     "execution_count": 11,
     "metadata": {},
     "output_type": "execute_result"
    }
   ],
   "source": [
    "..."
   ]
  },
  {
   "cell_type": "markdown",
   "metadata": {},
   "source": [
    "### `break`\n",
    "\n",
    "Иногда, на каком-то очередном обороте цикла, мы можем решить, что больше цикл нам продолжать не надо. В этом случае мы можем захотеть досрочно остановить цикл.\n",
    "\n",
    "Для этого есть специальное ключевое слово `break`, например:"
   ]
  },
  {
   "cell_type": "code",
   "execution_count": 13,
   "metadata": {},
   "outputs": [
    {
     "name": "stdout",
     "output_type": "stream",
     "text": [
      "150 Стопесят\n",
      "300 Стопесят\n",
      "450 Стопесят\n",
      "600 Стопесят\n",
      "750 Стопесят\n",
      "900 Стопесят\n",
      "1050 Стопесят\n",
      "1200 Стопесят\n",
      "1350 Стопесят\n",
      "1500 Стопесят\n",
      "1650 Стопесят\n",
      "1800 Стопесят\n",
      "1950 Стопесят\n",
      "2100 Стопесят\n",
      "2250 Стопесят\n",
      "2400 Стопесят\n"
     ]
    }
   ],
   "source": [
    "for i in range(1, 5000):\n",
    "    if i % 150 == 0:\n",
    "        print(i, \"Стопесят\")\n",
    "\n",
    "    if i % 2500 == 0:\n",
    "        break"
   ]
  },
  {
   "cell_type": "markdown",
   "metadata": {},
   "source": [
    "<div class=\"alert alert-block alert-warning\" style=\"margin-top: 20px\">\n",
    "\n",
    "<font size=4>**Задание 3**</font>\n",
    "\n",
    "Даны два целых числа и оператор, введённые пользователем, нужно вывести результат операции. Нужно поддержать:\n",
    "- оператор сложения (`+`)\n",
    "- оператор вычитания (`-`)\n",
    "- оператор умножения (`*`)\n",
    "- оператор деления (`/`)\n",
    "\n",
    "Если оператор неизвестный, нужно сказать об этом пользователю.\n",
    "\n",
    "Повторять ввод то тех пор, пока пользователь не введёт слово `stop` при чтении первого числа.\n",
    "\n",
    "(для самого наполнения калькулятора можно скопировать решение из прошлого ноутбука `02_conditions.ipynb`)\n",
    "\n",
    "</div>"
   ]
  },
  {
   "cell_type": "code",
   "execution_count": 14,
   "metadata": {},
   "outputs": [
    {
     "data": {
      "text/plain": [
       "Ellipsis"
      ]
     },
     "execution_count": 14,
     "metadata": {},
     "output_type": "execute_result"
    }
   ],
   "source": [
    "..."
   ]
  },
  {
   "cell_type": "markdown",
   "metadata": {},
   "source": [
    "# `while`\n",
    "\n",
    "`for` - не единственный тип циклов в Python. Как видно из прошлого задания, его применимость ограничена для задач, в которых нужно что-то делать, пока не выполнится какое-то условие. Можно сочинить решение вида `for i in range(10000000000000)` и внутри тела цикла делать проверку того, что может быть интересно, но это - использование инструмента там, где его использование не предполагалось (технический термин - \"костыль\").\n",
    "\n",
    "Гораздо более чистый код был бы, если бы мы могли делать что-то до тех пор, пока какое-то условие не выполнится. Как повезло, что в Python есть ключевое слово на этот случай - `while`:"
   ]
  },
  {
   "cell_type": "code",
   "execution_count": 40,
   "metadata": {},
   "outputs": [
    {
     "name": "stdout",
     "output_type": "stream",
     "text": [
      "Y\n",
      "YN\n",
      "YNJ\n",
      "YNJQ\n",
      "YNJQY\n",
      "YNJQYR\n",
      "YNJQYRN\n",
      "YNJQYRNN\n",
      "YNJQYRNNU\n",
      "YNJQYRNNUV\n",
      "YNJQYRNNUVY\n",
      "YNJQYRNNUVYG\n",
      "YNJQYRNNUVYGN\n",
      "YNJQYRNNUVYGNU\n",
      "YNJQYRNNUVYGNUP\n",
      "YNJQYRNNUVYGNUPK\n",
      "YNJQYRNNUVYGNUPKJ\n",
      "YNJQYRNNUVYGNUPKJE\n",
      "YNJQYRNNUVYGNUPKJEI\n",
      "YNJQYRNNUVYGNUPKJEIE\n",
      "YNJQYRNNUVYGNUPKJEIEQ\n",
      "YNJQYRNNUVYGNUPKJEIEQK\n",
      "YNJQYRNNUVYGNUPKJEIEQKC\n",
      "YNJQYRNNUVYGNUPKJEIEQKCY\n",
      "YNJQYRNNUVYGNUPKJEIEQKCYJ\n",
      "YNJQYRNNUVYGNUPKJEIEQKCYJA\n"
     ]
    }
   ],
   "source": [
    "a = 1\n",
    "b = 26\n",
    "\n",
    "random_string = \"\"\n",
    "\n",
    "while 'A' not in random_string:\n",
    "    # Это - очень страшный способ получить случайный символ в строке. \n",
    "    # Про него не надо ничего знать, кроме того, что на выходе в переменной random_symbol будет какая-то случайная заглавная буква.\n",
    "    random_symbol = chr(ord('@') + int(a+(b-a)*(abs(hash(str(hash(random_string + \"123\"))))%10**13)/10**13)) \n",
    "\n",
    "    random_string = random_string + random_symbol\n",
    "    print(random_string)\n"
   ]
  },
  {
   "cell_type": "markdown",
   "metadata": {},
   "source": [
    "<div class=\"alert alert-block alert-warning\" style=\"margin-top: 20px\">\n",
    "\n",
    "<font size=4>**Задание 4**</font>\n",
    "\n",
    "Доработать калькулятор из прошлого задания так, чтобы он использовал цикл `while`.\n",
    "\n",
    "</div>"
   ]
  },
  {
   "cell_type": "code",
   "execution_count": 38,
   "metadata": {},
   "outputs": [
    {
     "data": {
      "text/plain": [
       "Ellipsis"
      ]
     },
     "execution_count": 38,
     "metadata": {},
     "output_type": "execute_result"
    }
   ],
   "source": [
    "..."
   ]
  },
  {
   "cell_type": "markdown",
   "metadata": {},
   "source": [
    "### `continue`\n",
    "\n",
    "Аналогично `break`, есть так же способ пропустить текущее значение и сразу перейти к следующему:"
   ]
  },
  {
   "cell_type": "code",
   "execution_count": 45,
   "metadata": {},
   "outputs": [
    {
     "name": "stdout",
     "output_type": "stream",
     "text": [
      "3\n",
      "5\n",
      "20\n",
      "13\n",
      "17\n",
      "8\n",
      "18\n",
      "10\n",
      "1\n",
      "4\n",
      "13\n",
      "12\n",
      "17\n",
      "16\n",
      "10\n",
      "9\n",
      "5\n",
      "19\n",
      "20\n",
      "21\n",
      "21\n",
      "14\n",
      "1\n",
      "15\n",
      "5\n",
      "7\n",
      "1\n",
      "3\n",
      "1\n",
      "12\n",
      "7\n",
      "10\n",
      "15\n",
      "18\n",
      "6\n",
      "16\n",
      "3\n",
      "5\n",
      "9\n",
      "1\n",
      "5\n",
      "12\n",
      "4\n",
      "8\n",
      "12\n",
      "3\n",
      "17\n",
      "14\n",
      "17\n",
      "9\n",
      "16\n",
      "18\n",
      "4\n",
      "1\n",
      "7\n",
      "5\n",
      "20\n",
      "3\n",
      "9\n",
      "13\n",
      "7\n",
      "16\n",
      "1\n",
      "15\n",
      "6\n",
      "20\n",
      "2\n",
      "15\n",
      "12\n",
      "1\n",
      "2\n",
      "6\n",
      "7\n",
      "7\n",
      "15\n",
      "19\n",
      "5\n",
      "3\n",
      "14\n",
      "13\n",
      "14\n",
      "3\n"
     ]
    }
   ],
   "source": [
    "a = 1\n",
    "b = 26\n",
    "\n",
    "for i in range(100):\n",
    "    # Это - очень страшный способ получить случайное целое число между a и b.\n",
    "    random_number = int(a+(b-a)*(abs(hash(str(hash(str(i)+\"123\"))))%10**13)/10**13)\n",
    "\n",
    "    if random_number >= 22:\n",
    "        continue\n",
    "\n",
    "    print(random_number)"
   ]
  },
  {
   "cell_type": "markdown",
   "metadata": {},
   "source": [
    "Этот код печатает только числа, меньше 22. Для всех остальных запускается ключевое слово `continue`, которое говорит Python - всё что дальше внутри тела цикла меня не интересует, перенеси меня сразу к следующему значению `i`."
   ]
  }
 ],
 "metadata": {
  "kernelspec": {
   "display_name": ".venv",
   "language": "python",
   "name": "python3"
  },
  "language_info": {
   "codemirror_mode": {
    "name": "ipython",
    "version": 3
   },
   "file_extension": ".py",
   "mimetype": "text/x-python",
   "name": "python",
   "nbconvert_exporter": "python",
   "pygments_lexer": "ipython3",
   "version": "3.13.2"
  }
 },
 "nbformat": 4,
 "nbformat_minor": 2
}
