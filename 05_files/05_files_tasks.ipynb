{
 "cells": [
  {
   "cell_type": "markdown",
   "metadata": {},
   "source": [
    "<div class=\"alert alert-block alert-warning\" style=\"margin-top: 20px\">\n",
    "\n",
    "<font size=4>**Задание 1**</font>     \n",
    "\n",
    "В файле `data/observations.csv` лежит набор наблюдений звёздной величины звезды со временем. Нужно вывести среднее и стандартное отклонение этих наблюдений (формулы для обоих лежат в прошлом ноутбуке).\n",
    "\n",
    "Обратите внимание - некоторые значения отсутствуют, их не нужно учитывать при подсчёте.\n",
    "\n",
    "</div>"
   ]
  },
  {
   "cell_type": "code",
   "execution_count": null,
   "metadata": {
    "vscode": {
     "languageId": "plaintext"
    }
   },
   "outputs": [],
   "source": [
    "..."
   ]
  },
  {
   "cell_type": "markdown",
   "metadata": {},
   "source": [
    "<div class=\"alert alert-block alert-warning\" style=\"margin-top: 20px\">\n",
    "\n",
    "<font size=4>**Задание 2**</font>     \n",
    "\n",
    "Для любого из файлов в директории `data/` сделать другой файл, строки в котором расположены в обратном порядке.\n",
    "\n",
    "</div>"
   ]
  },
  {
   "cell_type": "code",
   "execution_count": null,
   "metadata": {
    "vscode": {
     "languageId": "plaintext"
    }
   },
   "outputs": [],
   "source": [
    "..."
   ]
  },
  {
   "cell_type": "markdown",
   "metadata": {},
   "source": [
    "<div class=\"alert alert-block alert-warning\" style=\"margin-top: 20px\">\n",
    "\n",
    "<font size=4>**Задание 3**</font>     \n",
    "\n",
    "В директории `data/` есть два файла с наблюдениями трёх компонент скорости некой звезды - `data1.csv`, `data2.csv`. Нужно слить их в один файл, в котором времена (первый столбец каждого файла) идут всё так же подряд, как и в каждом изначальном файле.\n",
    "\n",
    "</div>"
   ]
  },
  {
   "cell_type": "code",
   "execution_count": null,
   "metadata": {
    "vscode": {
     "languageId": "plaintext"
    }
   },
   "outputs": [],
   "source": [
    "..."
   ]
  }
 ],
 "metadata": {
  "language_info": {
   "name": "python"
  }
 },
 "nbformat": 4,
 "nbformat_minor": 2
}
