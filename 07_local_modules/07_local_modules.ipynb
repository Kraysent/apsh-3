{
 "cells": [
  {
   "cell_type": "markdown",
   "metadata": {},
   "source": [
    "# Модули\n",
    "\n",
    "До текущего момента мы писали весь код в одном и том же ноутбуке. В этом нет ничего особенно плохого для маленьких задач - код пишется сверху вниз, всегда понятно как найти очередное действие, а если непонятно - можно написать себе текстовую заметку.\n",
    "\n",
    "Тем не менее, по мере разрастания проектов появляется несколько проблем:\n",
    "- Тяжело переиспользовать код в разных ноутбуках. Функцию или блок кода, написанные в одном ноутбуке, нельзя использовать в других ноутбуках.\n",
    "- Среди сотен строк кода очень сложно искать даже в хорошо структурированном ноутбуке.\n",
    "\n",
    "Чтобы бороться с этим, в Python (и почти любом другом языке программирования) есть функционал модулей - код можно выносить в другой файл и использовать (импортировать) его в другой файл или ноутбук."
   ]
  },
  {
   "cell_type": "markdown",
   "metadata": {},
   "source": [
    "Сразу в огонь - можете посмотреть на файл `strings.py` в директории с этим ноутбуком. В нём есть функция `remove_substring`, которая принимает две строки, удаляет все вхождения второй строки в первой и возвращает результат.\n",
    "\n",
    "Посмотрим, как её использовать из этого ноутбука:"
   ]
  },
  {
   "cell_type": "code",
   "execution_count": null,
   "metadata": {},
   "outputs": [],
   "source": [
    "import strings\n",
    "\n",
    "data = \"25.5 | 53 | Москва\"\n",
    "result = strings.remove_substring(data, \" | \")\n",
    "\n",
    "result"
   ]
  },
  {
   "cell_type": "markdown",
   "metadata": {},
   "source": [
    "Новое слово в нашем словаре: `import`. Оно позволяет использовать код из другого файла, который находится в той же директории (или поддиректории). Использование:\n",
    "\n",
    "```python\n",
    "import <название файла без .py в конце>\n",
    "\n",
    "<название файла>.<название функции>\n",
    "```\n",
    "\n",
    "Можно так же импортировать функции напрямую:"
   ]
  },
  {
   "cell_type": "code",
   "execution_count": null,
   "metadata": {},
   "outputs": [],
   "source": [
    "from colors import green, red, bold\n",
    "\n",
    "line1 = \"Этот текст обычный\"\n",
    "line_green = green(\"Этот текст зелёный\")\n",
    "line_red = red(\"Этот текст красный\")\n",
    "line_strange = bold(green(\"А тут ваще всё подряд\"))\n",
    "\n",
    "print(line1)\n",
    "print(line_green)\n",
    "print(line_red)\n",
    "print(line_strange)"
   ]
  },
  {
   "cell_type": "markdown",
   "metadata": {},
   "source": [
    "Синтаксис:\n",
    "\n",
    "```python\n",
    "from <название файла без .py> import <название функции> # или несколько функций через запятую\n",
    "\n",
    "<названий функции>(arg1, arg2)\n",
    "```\n",
    "\n",
    "Тут может быть проблема, если в нескольких разных модуля функции называются одинаково. В таком случае можно использовать `as` для переименования:\n",
    "\n",
    "```\n",
    "from <название файла без .py> import <название функции> as <другое название>\n",
    "```"
   ]
  },
  {
   "cell_type": "code",
   "execution_count": null,
   "metadata": {},
   "outputs": [],
   "source": [
    "from colors import bg_green as background_green\n",
    "\n",
    "print(background_green(\"Прив\"))"
   ]
  },
  {
   "cell_type": "markdown",
   "metadata": {},
   "source": [
    "<div class=\"alert alert-block alert-info\" style=\"margin-top: 20px\">\n",
    "\n",
    "<font size=4>**Примечание**</font>     \n",
    "\n",
    "У модулей есть определённые правила именования, схожие с переменными:\n",
    "- Только английские буквы и цифры\n",
    "- Название модуля не может начинаться с цифры\n",
    "- Нельзя называть ключевым словом (`for`, `import`, `while`, ...)\n",
    "\n",
    "</div>"
   ]
  },
  {
   "cell_type": "markdown",
   "metadata": {},
   "source": [
    "<div class=\"alert alert-block alert-warning\" style=\"margin-top: 20px\">\n",
    "\n",
    "<font size=4>**Задание 1**</font>\n",
    "\n",
    "Сделать модуль для перевода единиц измерения длины друг в друга. Нужно поддержать:\n",
    "- `km` - километры\n",
    "- `m` - метры\n",
    "- `pc` - парсеки\n",
    "- `in` - дюймы\n",
    "\n",
    "На практике это должна быть функция, принимающая значение, строку - единицу измерения значения, и строку - целевую единицу измерения.\n",
    "\n",
    "Код, написанный ниже, должен работать.\n",
    "\n",
    "</div>"
   ]
  },
  {
   "cell_type": "code",
   "execution_count": null,
   "metadata": {},
   "outputs": [],
   "source": [
    "from converters import metric\n",
    "\n",
    "print(metric(10000, 'm', 'km'), \"==\", 10)\n",
    "print(metric(1, 'in', 'km'), \"==\", 2.54e-5)\n",
    "print(metric(1, 'pc', 'in'), \"==\", 1.215e+18)"
   ]
  },
  {
   "cell_type": "markdown",
   "metadata": {},
   "source": [
    "<div class=\"alert alert-block alert-warning\" style=\"margin-top: 20px\">\n",
    "\n",
    "<font size=4>**Задание 2**</font>\n",
    "\n",
    "В модуле `colors` дописать функцию, которая будет выводить переданную строку цветами радуги. Нужно, чтобы она делала это равномерно независимо от числа символов. Например, строка \"Одно кольцо, чтоб править всеми\" должна печататься примерно как: \n",
    "\n",
    "<span style=\"color:#FF0000\">Одно</span><span style=\"color:#FF7F00\"> коль</span><span style=\"color:#FFFF00\">цо, </span><span style=\"color:#00FF00\">чтоб</span><span style=\"color:#0000FF\"> прав</span><span style=\"color:#4B0082\">ить</span><span style=\"color:#8B00FF\"> всем</span><span style=\"color:#FF0000\">и</span>\n",
    "\n",
    "</div>"
   ]
  },
  {
   "cell_type": "code",
   "execution_count": null,
   "metadata": {},
   "outputs": [],
   "source": [
    "from colors import rainbow\n",
    "\n",
    "print(rainbow(\"One Ring to rule them all, One Ring to find them, One Ring to bring them all, and in the darkness bind them\"))"
   ]
  }
 ],
 "metadata": {
  "kernelspec": {
   "display_name": ".venv",
   "language": "python",
   "name": "python3"
  },
  "language_info": {
   "codemirror_mode": {
    "name": "ipython",
    "version": 3
   },
   "file_extension": ".py",
   "mimetype": "text/x-python",
   "name": "python",
   "nbconvert_exporter": "python",
   "pygments_lexer": "ipython3",
   "version": "3.13.2"
  }
 },
 "nbformat": 4,
 "nbformat_minor": 2
}
