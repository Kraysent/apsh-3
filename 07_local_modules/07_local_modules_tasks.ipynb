{
 "cells": [
  {
   "cell_type": "markdown",
   "metadata": {},
   "source": [
    "<div class=\"alert alert-block alert-warning\" style=\"margin-top: 20px\">\n",
    "\n",
    "<font size=4>**Задание 1**</font>\n",
    "\n",
    "Написать модуль `todo.py`, реализующий менеджмент задач. Задача характеризуется заголовком. У модуля должны быть следующие функции:\n",
    "\n",
    "- `add_task(title: str) -> int` - добавляет задачу в список и возвращает её номер\n",
    "- `mark_done(index: int)` - отмечает задачу с номером `index` как выполненную\n",
    "- `list_tasks()` - выводит список всех задач пользователя\n",
    "\n",
    "Формат хранения самих задач - на усмотрение решающего.\n",
    "\n",
    "</div>"
   ]
  },
  {
   "cell_type": "code",
   "execution_count": null,
   "metadata": {
    "vscode": {
     "languageId": "plaintext"
    }
   },
   "outputs": [],
   "source": [
    "..."
   ]
  }
 ],
 "metadata": {
  "language_info": {
   "name": "python"
  }
 },
 "nbformat": 4,
 "nbformat_minor": 2
}
