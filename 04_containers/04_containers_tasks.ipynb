{
 "cells": [
  {
   "cell_type": "markdown",
   "metadata": {},
   "source": [
    "<div class=\"alert alert-block alert-warning\" style=\"margin-top: 20px\">\n",
    "\n",
    "<font size=4>**Задание 1**</font>\n",
    "\n",
    "Дана серия наблюдений блеска некоторой звезды. Нужно посчитать среднее и стандартное отклонение этих наблюдений.\n",
    "\n",
    "Среднее:\n",
    "$$\n",
    "\\mu = \\frac{1}{N} \\sum_{i=1}^{N} x_i\n",
    "$$\n",
    "\n",
    "Стандартное отклонение:\n",
    "$$\n",
    "\\sigma = \\sqrt{\\frac{1}{N} \\sum_{i=1}^{N} (x_i - \\mu)^2}\n",
    "$$\n",
    "\n",
    "</div>"
   ]
  },
  {
   "cell_type": "code",
   "execution_count": null,
   "metadata": {},
   "outputs": [],
   "source": [
    "observations = [\n",
    "    12.345, 12.678, 12.512, 12.401, 12.789, 12.234, \n",
    "    12.567, 12.890, 12.321, 12.654, 12.432, 12.876, \n",
    "    12.543, 12.765, 12.654, 12.321, 12.789, 12.456, \n",
    "    12.678, 12.543,\n",
    "]\n",
    "\n",
    "..."
   ]
  },
  {
   "cell_type": "markdown",
   "metadata": {},
   "source": [
    "<div class=\"alert alert-block alert-warning\" style=\"margin-top: 20px\">\n",
    "\n",
    "<font size=4>**Задание 2**</font>\n",
    "\n",
    "Дан текст. Нужно вывести 5 самых частых букв (только букв, без лишних символов), используемых в нём, в порядке частоты.\n",
    "\n",
    "</div>"
   ]
  },
  {
   "cell_type": "code",
   "execution_count": null,
   "metadata": {},
   "outputs": [],
   "source": [
    "text = \"\"\"\n",
    "Дикой (сердясь более и более). Слышал, что шесты, аспид ты этакой; да еще-то что? Наладил: шесты! Ну, а еще что?\n",
    "\n",
    "Кулигин. Ничего больше.\n",
    "\n",
    "Дикой. Да гроза-то что такое, по-твоему, а? Ну, говори.\n",
    "\n",
    "Кулигин. Электричество.\n",
    "\n",
    "Дикой (топнув ногой). Какое еще там елестричество! Ну, как же ты не разбойник! Гроза-то нам в наказание посылается, чтобы мы чувствовали, а ты хочешь шестами да рожнами какими-то, прости господи, обороняться. Что ты, татарин, что ли? Татарин ты? А, говори! Татарин?\n",
    "\"\"\""
   ]
  },
  {
   "cell_type": "markdown",
   "metadata": {},
   "source": [
    "<div class=\"alert alert-block alert-warning\" style=\"margin-top: 20px\">\n",
    "\n",
    "<font size=4>**Задание 3**</font>\n",
    "\n",
    "Дан список чисел. Вывести список, в котором удалены дубликаты.\n",
    "\n",
    "</div>"
   ]
  },
  {
   "cell_type": "code",
   "execution_count": null,
   "metadata": {},
   "outputs": [],
   "source": [
    "numbers = [2, 5, 3, 5, 2, 8, 3, 9]\n",
    "\n",
    "# нужно вывести [2, 5, 3, 8, 9]"
   ]
  }
 ],
 "metadata": {
  "kernelspec": {
   "display_name": ".venv",
   "language": "python",
   "name": "python3"
  },
  "language_info": {
   "name": "python",
   "version": "3.13.2"
  }
 },
 "nbformat": 4,
 "nbformat_minor": 2
}
