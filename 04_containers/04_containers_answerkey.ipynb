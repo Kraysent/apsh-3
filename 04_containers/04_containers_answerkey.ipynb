{
 "cells": [
  {
   "cell_type": "markdown",
   "metadata": {},
   "source": [
    "# Контейнеры"
   ]
  },
  {
   "cell_type": "markdown",
   "metadata": {},
   "source": [
    "<div class=\"alert alert-block alert-warning\" style=\"margin-top: 20px\">\n",
    "\n",
    "<font size=4>**Задание 1**</font>\n",
    "\n",
    "Дан набор звёзд и их звёздных величин. Найти среди них самую яркую.\n",
    "\n",
    "</div>"
   ]
  },
  {
   "cell_type": "code",
   "execution_count": null,
   "metadata": {},
   "outputs": [],
   "source": [
    "star1 = float(input())\n",
    "star2 = float(input())\n",
    "star3 = float(input())\n",
    "star4 = float(input())\n",
    "star5 = float(input())\n",
    "\n",
    "brightest = star1\n",
    "if star2 < brightest:\n",
    "    brightest = star2\n",
    "if star3 < brightest:\n",
    "    brightest = star3\n",
    "if star4 < brightest:\n",
    "    brightest = star4\n",
    "if star5 < brightest:\n",
    "    brightest = star5\n",
    "\n",
    "print(brightest)"
   ]
  },
  {
   "cell_type": "markdown",
   "metadata": {},
   "source": [
    "## `list`\n",
    "\n",
    "Часть нужно сделать одну и ту же операцию несколько раз над разными данными. Это может распространяться от такой простой задачи как напечатать своё имя несколько раз до моделирования эволюции системы из тысяч точек.\n",
    "\n",
    "Для этого существуют списки - специальные **контейнеры** в памяти, хранящие набор (обычно) единообразных данных. Списки (и любые другие контейнеры, на которые мы посмотрим дальше) - это такие же переменные, как и числа/строки/булы, которые мы объявляли раньше. Соответственно синтаксис их создания такой же:"
   ]
  },
  {
   "cell_type": "code",
   "execution_count": 14,
   "metadata": {},
   "outputs": [],
   "source": [
    "magnitudes = [4.5, 5.3, 3.9]"
   ]
  },
  {
   "cell_type": "markdown",
   "metadata": {},
   "source": [
    "В них так же можно использовать другие переменные (в перемешку с значениями напрямую):"
   ]
  },
  {
   "cell_type": "code",
   "execution_count": null,
   "metadata": {},
   "outputs": [],
   "source": [
    "star1_type = \"K\"\n",
    "star2_type = \"M\"\n",
    "\n",
    "star_types = [\"A\", star1_type, \"F\", \"G\", star2_type]\n",
    "\n",
    "print(star_types)"
   ]
  },
  {
   "cell_type": "markdown",
   "metadata": {},
   "source": [
    "Или можно даже заполнять их из других списков при помощи сложения:"
   ]
  },
  {
   "cell_type": "code",
   "execution_count": null,
   "metadata": {},
   "outputs": [],
   "source": [
    "spiral_galaxy_types = [\"SAa\", \"SAb\", \"SAc\", \"SAd\", \"SAm\"]\n",
    "elliptical_galaxy_types = [\"E0\", \"E1\", \"E2\", \"E3\", \"E4\", \"E5\", \"E6\", \"E7\"]\n",
    "\n",
    "all_types = spiral_galaxy_types + elliptical_galaxy_types\n",
    "\n",
    "print(all_types)"
   ]
  },
  {
   "cell_type": "markdown",
   "metadata": {},
   "source": [
    "Это всё - добавление заранее известного набора переменных и значений в список. Что если у нас уже есть список, но мы хотим добавить туда значение? Для этого есть специальная функция `append`:"
   ]
  },
  {
   "cell_type": "code",
   "execution_count": null,
   "metadata": {},
   "outputs": [],
   "source": [
    "star_masses = [5e30, 2e30, 1.5e31, 2e32]\n",
    "\n",
    "new_star_mass = 4.44e33\n",
    "\n",
    "star_masses.append(new_star_mass)\n",
    "\n",
    "print(star_masses)"
   ]
  },
  {
   "cell_type": "markdown",
   "metadata": {},
   "source": [
    "Есть более страшный (но работающий) способ добавлять в список значения - при помощи всё того же оператора `+`:"
   ]
  },
  {
   "cell_type": "code",
   "execution_count": null,
   "metadata": {},
   "outputs": [],
   "source": [
    "star_masses2 = [5e30, 2e30, 1.5e31, 2e32]\n",
    "\n",
    "new_star_mass2 = 4.44e33\n",
    "\n",
    "star_masses2 = star_masses2 + [new_star_mass2] # делаем временный список и соединяем наш список с этим временным списком\n",
    "\n",
    "print(star_masses2)"
   ]
  },
  {
   "cell_type": "markdown",
   "metadata": {},
   "source": [
    "Чаще всего это - ещё один пример костылей, но иногда так тоже может быть удобно делать. Если не уверены, используйте `append`."
   ]
  },
  {
   "cell_type": "markdown",
   "metadata": {},
   "source": [
    "В список записали, а что теперь с этим делать? Можно читать оттуда значения:"
   ]
  },
  {
   "cell_type": "code",
   "execution_count": null,
   "metadata": {},
   "outputs": [],
   "source": [
    "assistants = [\"ChatGPT\", \"Claude\", \"Mistral\", \"Gemini\"]\n",
    "\n",
    "print(assistants[0])\n",
    "print(assistants[3])"
   ]
  },
  {
   "cell_type": "markdown",
   "metadata": {},
   "source": [
    "И сразу же видно важное свойство чтения из списков:\n",
    "\n",
    "<div class=\"alert alert-block alert-info\" style=\"margin-top: 20px\">\n",
    "\n",
    "<font size=4>**Примечание**</font>     \n",
    "\n",
    "Нумерация в списках идёт с 0. Это значит, что чтобы обратиться к первому элементу списка, нужно сказать `my_list[0]`.\n",
    "\n",
    "Из этого следует, что все остальные элементы будут на самом деле идти со сдвигом 1: второй элемент имеет номер (*индекс*) 1, третий - индекс 2, четвертый - индекс 3 и так далее.\n",
    "\n",
    "</div>"
   ]
  },
  {
   "cell_type": "markdown",
   "metadata": {},
   "source": [
    "Супер, мы умеем получать элементы из списка с конкретным номером, мы умеем генерировать номера (помните `range`?).\n",
    "\n",
    "Осталось понять, какой последний номер нужно сгенерировать. Для этого Python имеет специальную функцию - `len`:"
   ]
  },
  {
   "cell_type": "code",
   "execution_count": null,
   "metadata": {},
   "outputs": [],
   "source": [
    "objects = [\"Sun\", \"Betelgeuse\", \"Andromeda Galaxy\", \"Jupiter\", \"Halley's Comet\"]\n",
    "\n",
    "print(len(objects))"
   ]
  },
  {
   "cell_type": "markdown",
   "metadata": {},
   "source": [
    "Теперь у нас есть все необходимые ингридиенты для следующего задания."
   ]
  },
  {
   "cell_type": "markdown",
   "metadata": {},
   "source": [
    "<div class=\"alert alert-block alert-warning\" style=\"margin-top: 20px\">\n",
    "\n",
    "<font size=4>**Задание 2**</font>\n",
    "\n",
    "Для каждого элемента из списка объектов вывести, какой у него номер в списке.\n",
    "\n",
    "</div>"
   ]
  },
  {
   "cell_type": "code",
   "execution_count": null,
   "metadata": {},
   "outputs": [],
   "source": [
    "objects = [\"Sun\", \"Betelgeuse\", \"Andromeda Galaxy\", \"Jupiter\", \"Halley's Comet\"]\n",
    "\n",
    "for i in range(len(objects)):\n",
    "    print(i, objects[i])"
   ]
  },
  {
   "cell_type": "markdown",
   "metadata": {},
   "source": [
    "Бывают задачи, где нам не нужно знать номер объекта в списке - например, нужно просто отфильтровать объекты или для каждого объекта проделать какие-то одинаковые действия. В таком случае есть более простая запись цикла `for`:"
   ]
  },
  {
   "cell_type": "code",
   "execution_count": null,
   "metadata": {},
   "outputs": [],
   "source": [
    "digits = [3, 1, 4, 1, 5, 9, 2, 6, 5, 3, 5]\n",
    "\n",
    "for digit in digits:\n",
    "    if digit < 5:\n",
    "        print(\"Маленбкая\", digit)\n",
    "    else:\n",
    "        print(\"Болбшая\", digit)\n"
   ]
  },
  {
   "cell_type": "markdown",
   "metadata": {},
   "source": [
    "И так же по индексам можно менять значения:"
   ]
  },
  {
   "cell_type": "code",
   "execution_count": null,
   "metadata": {},
   "outputs": [],
   "source": [
    "digits[5] = 100\n",
    "\n",
    "print(digits)"
   ]
  },
  {
   "cell_type": "markdown",
   "metadata": {},
   "source": [
    "<div class=\"alert alert-block alert-warning\" style=\"margin-top: 20px\">\n",
    "\n",
    "<font size=4>**Задание 3**</font>\n",
    "\n",
    "Дан набор данных с температурами звёзд. Нужно вывести одно число - количество звёзд A и F классов в выборке.\n",
    "\n",
    "</div>"
   ]
  },
  {
   "cell_type": "code",
   "execution_count": null,
   "metadata": {},
   "outputs": [],
   "source": [
    "data = [7603,30302,2244,18670,30734,22362,10224,5267,21566,22055,11479,12927,22985,17393,14655,14695,26841,3366,20318,5424,21681,26968,7576,14608,11777,2913,34218,27270,16325,31374,31615,27241,33646,26702,28050,15673,13867,24240,2826,2632,15417,24073,15909,26542,17258,14335,31866,34889,32572,27950,28573,26556,7418,20428,28403,8326,30886,30878,30236,12732,30808,23244,17792,29968,31187,11326,21419,8431,3823,10243,12549,24552,9774,20932,33287,3475,31024,10003,26924,10078,19738,15864,13205,21161,22252,16975,31691,28017,16611,8083,29126,3519,17242,21609,21428,6176,11967,10204,20238,5464]\n",
    "\n",
    "count = 0\n",
    "\n",
    "for temp in data:\n",
    "    if (7200 <= temp < 9700) or (5700 <= temp < 7200):\n",
    "        count += 1\n",
    "\n",
    "print(count)\n"
   ]
  },
  {
   "cell_type": "markdown",
   "metadata": {},
   "source": [
    "## Словари\n",
    "\n",
    "Списки позволяют хранить данные в упорядоченном виде - у каждой записи есть свой номер, по которому можно обратиться.\n",
    "\n",
    "А что, если нам нужно поставить какие-то данные в соответствие другим? С таким мы уже сталкивались - есть классы звёзд, а есть температуры, которые соответствуют этим классам. Для такой задачи хорошо подходят словари - они создают отображение одних данных в другие.\n",
    "\n",
    "Создавать словари можно так:"
   ]
  },
  {
   "cell_type": "code",
   "execution_count": null,
   "metadata": {},
   "outputs": [],
   "source": [
    "class_temperatures = {\n",
    "    \"O\": 30000,\n",
    "    \"B\": 9700,\n",
    "    \"A\": 7200,\n",
    "    \"F\": 5700,\n",
    "    \"G\": 4900,\n",
    "    \"K\": 3400,\n",
    "    \"M\": 2100\n",
    "}\n",
    "\n",
    "print(class_temperatures)"
   ]
  },
  {
   "cell_type": "markdown",
   "metadata": {},
   "source": [
    "Для чтения данных синтаксис аналогичен спискам, но теперь вместо индексов используются те объекты, которые мы положили слева от двоеточия (*ключи*):"
   ]
  },
  {
   "cell_type": "code",
   "execution_count": null,
   "metadata": {},
   "outputs": [],
   "source": [
    "print(class_temperatures[\"F\"])\n",
    "print(class_temperatures[\"G\"])\n",
    "print(class_temperatures[\"A\"])"
   ]
  },
  {
   "cell_type": "markdown",
   "metadata": {},
   "source": [
    "Изменение значений так же происходит при помощи ключей:"
   ]
  },
  {
   "cell_type": "code",
   "execution_count": null,
   "metadata": {},
   "outputs": [],
   "source": [
    "class_temperatures[\"O\"] = 100000\n",
    "\n",
    "print(class_temperatures)"
   ]
  },
  {
   "cell_type": "markdown",
   "metadata": {},
   "source": [
    "Ключи так же можно удалять из словаря:"
   ]
  },
  {
   "cell_type": "code",
   "execution_count": null,
   "metadata": {},
   "outputs": [],
   "source": [
    "galaxy_types = {\n",
    "    \"Milky Way\": \"Barred Spiral\",\n",
    "    \"Andromeda\": \"Spiral\",\n",
    "    \"Triangulum\": \"Spiral\",\n",
    "    \"Large Magellanic Cloud\": \"Irregular\"\n",
    "}\n",
    "\n",
    "print(galaxy_types)\n",
    "\n",
    "del galaxy_types[\"Andromeda\"]\n",
    "\n",
    "print(galaxy_types)"
   ]
  },
  {
   "cell_type": "markdown",
   "metadata": {},
   "source": [
    "И так же словари можно обходить в цикле:"
   ]
  },
  {
   "cell_type": "code",
   "execution_count": null,
   "metadata": {},
   "outputs": [],
   "source": [
    "for key in galaxy_types:\n",
    "    print(key, \"is\", galaxy_types[key])"
   ]
  },
  {
   "cell_type": "markdown",
   "metadata": {},
   "source": [
    "<div class=\"alert alert-block alert-warning\" style=\"margin-top: 20px\">\n",
    "\n",
    "<font size=4>**Задание 4**</font>\n",
    "\n",
    "Дан список из списков, в которых описано, какие планеты имеют какие спутники. Для каждой планеты нужно вывести одно число - количество спутников у неё.\n",
    "\n",
    "</div>"
   ]
  },
  {
   "cell_type": "code",
   "execution_count": null,
   "metadata": {},
   "outputs": [],
   "source": [
    "planet_moons = [\n",
    "    [\"Earth\", \"Moon\"],\n",
    "    [\"Mars\", \"Phobos\"],\n",
    "    [\"Mars\", \"Deimos\"],\n",
    "    [\"Jupiter\", \"Io\"],\n",
    "    [\"Jupiter\", \"Europa\"],\n",
    "    [\"Jupiter\", \"Ganymede\"],\n",
    "    [\"Jupiter\", \"Callisto\"],\n",
    "    [\"Saturn\", \"Titan\"],\n",
    "    [\"Saturn\", \"Enceladus\"],\n",
    "    [\"Uranus\", \"Titania\"],\n",
    "    [\"Uranus\", \"Oberon\"],\n",
    "    [\"Neptune\", \"Triton\"],\n",
    "    [\"Neptune\", \"Nereid\"]\n",
    "]\n",
    "\n",
    "moon_counts: dict[str, int] = {}\n",
    "for planet, _ in planet_moons:\n",
    "    if planet in moon_counts:\n",
    "        moon_counts[planet] += 1\n",
    "    else:\n",
    "        moon_counts[planet] = 1\n",
    "\n",
    "for planet in moon_counts:\n",
    "    print(planet, moon_counts[planet])\n"
   ]
  },
  {
   "cell_type": "markdown",
   "metadata": {},
   "source": [
    "## Кортежи\n",
    "\n",
    "Помимо того, что описано выше, в Python бывает много разных других типов контейнеров. Один из интересных - кортеж.\n",
    "\n",
    "Как в задании выше, часто бывает ситуация, когда мы знаем чётко, сколько элементов в списке. В таком случае лучше использовать тип данных, который не позволит просто так его поменять. Такой тип и называется кортежем.\n",
    "\n",
    "Объявление кортежей:"
   ]
  },
  {
   "cell_type": "code",
   "execution_count": null,
   "metadata": {},
   "outputs": [],
   "source": [
    "coordinates = (14.7, -62.3)\n",
    "\n",
    "print(coordinates)"
   ]
  },
  {
   "cell_type": "markdown",
   "metadata": {},
   "source": [
    "К ним можно так же обращаться по индексам:"
   ]
  },
  {
   "cell_type": "code",
   "execution_count": null,
   "metadata": {},
   "outputs": [],
   "source": [
    "print(coordinates[0], coordinates[1])"
   ]
  },
  {
   "cell_type": "markdown",
   "metadata": {},
   "source": [
    "И даже можно распаковывать (кстати, списки тоже можно):"
   ]
  },
  {
   "cell_type": "code",
   "execution_count": null,
   "metadata": {},
   "outputs": [],
   "source": [
    "ra, dec = coordinates\n",
    "\n",
    "print(ra)\n",
    "print(dec)"
   ]
  },
  {
   "cell_type": "markdown",
   "metadata": {},
   "source": [
    "Но изменять значения в них нельзя:"
   ]
  },
  {
   "cell_type": "code",
   "execution_count": null,
   "metadata": {},
   "outputs": [],
   "source": [
    "coordinates.append(12.2)"
   ]
  },
  {
   "cell_type": "code",
   "execution_count": null,
   "metadata": {},
   "outputs": [],
   "source": [
    "coordinates[0] = 5"
   ]
  },
  {
   "cell_type": "markdown",
   "metadata": {},
   "source": [
    "В целом они полезны для группировки неизменяемых значений - координат, наблюдений, ошибок и прочего."
   ]
  },
  {
   "cell_type": "markdown",
   "metadata": {},
   "source": [
    "## Множества\n",
    "\n",
    "И ещё один интересный контейнер - множества. Они позволяют хранить в себе уникальные значения, у которых не обязательно есть очевидный порядок. Пример - множество всех созвездий на ночном небе:"
   ]
  },
  {
   "cell_type": "code",
   "execution_count": null,
   "metadata": {},
   "outputs": [],
   "source": [
    "observed = {\"Orion\", \"Ursa Major\", \"Cassiopeia\", \"Lyra\", \"Cygnus\"}\n",
    "\n",
    "print(observed)"
   ]
  },
  {
   "cell_type": "markdown",
   "metadata": {},
   "source": [
    "В них можно добавлять значения, и они не продублируются:"
   ]
  },
  {
   "cell_type": "code",
   "execution_count": null,
   "metadata": {},
   "outputs": [],
   "source": [
    "observed.add(\"Andromeda\") # добавится\n",
    "\n",
    "observed.add(\"Orion\") # уже есть, заново не будет добавлен\n",
    "\n",
    "print(observed)"
   ]
  },
  {
   "cell_type": "markdown",
   "metadata": {},
   "source": [
    "И по ним, точно так же как и по спискам и словарям, можно проходиться в цикле:"
   ]
  },
  {
   "cell_type": "code",
   "execution_count": null,
   "metadata": {},
   "outputs": [],
   "source": [
    "for constellation in observed:\n",
    "    print(\"Observed\", constellation)"
   ]
  }
 ],
 "metadata": {
  "kernelspec": {
   "display_name": ".venv",
   "language": "python",
   "name": "python3"
  },
  "language_info": {
   "codemirror_mode": {
    "name": "ipython",
    "version": 3
   },
   "file_extension": ".py",
   "mimetype": "text/x-python",
   "name": "python",
   "nbconvert_exporter": "python",
   "pygments_lexer": "ipython3",
   "version": "3.13.2"
  }
 },
 "nbformat": 4,
 "nbformat_minor": 2
}
