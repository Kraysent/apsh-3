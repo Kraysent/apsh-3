{
 "cells": [
  {
   "cell_type": "markdown",
   "metadata": {},
   "source": [
    "# Функции"
   ]
  },
  {
   "cell_type": "markdown",
   "metadata": {},
   "source": [
    "<div class=\"alert alert-block alert-warning\" style=\"margin-top: 20px\">\n",
    "\n",
    "<font size=4>**Задание 1**</font>     \n",
    "\n",
    "Внутри директории `data/` есть три файла - `star1.csv`, `star2.csv`, `star3.csv`. В них находятся наблюдения блесков трёх звёзд. Схема данных каждого файла следующая:\n",
    "- Первый столбец - время наблюдения\n",
    "- Второй столбец - яркость звезды в данный момент\n",
    "\n",
    "Нужно найти амплитуду блеска (aka разницу между максимумом и минимумом) всех трёх звёзд и вывести одной строкой, разделённые запятыми.\n",
    "\n",
    "</div>"
   ]
  },
  {
   "cell_type": "markdown",
   "metadata": {},
   "source": [
    "<div class=\"alert alert-block alert-info\" style=\"margin-top: 20px\">\n",
    "\n",
    "<font size=4>**Примечание**</font>     \n",
    "\n",
    "Для вычисления минимального и максимального значения можно использовать встроенные функции `min` и `max` соответственно. Использование примерно следующее:\n",
    "\n",
    "```python\n",
    "my_list = [1, 2, 3, 5, 4, 3, 2]\n",
    "\n",
    "print(min(my_list))\n",
    "print(max(my_list))\n",
    "```\n",
    "\n",
    "</div>"
   ]
  },
  {
   "cell_type": "code",
   "execution_count": null,
   "metadata": {},
   "outputs": [],
   "source": [
    "..."
   ]
  },
  {
   "cell_type": "markdown",
   "metadata": {},
   "source": [
    "В этом задании уже видно, что если нам нужно проделать одни и те же действия над несколькими объектами (в данном случае - файлами), то приходится дублировать код. Дублирование кода в большинстве случаев - плохо, потому что приводит к нескольким проблемам:\n",
    "\n",
    "- Такой код сложнее читать - мозг думает, что разные участки кода делают разные вещи и пытается вникнуть отдельно в каждый.\n",
    "- Если нужно добавить что-то новое, то изменение нужно копипастить в несколько мест\n",
    "\n",
    "Описать функцию можно своим специальным синтаксисом:"
   ]
  },
  {
   "cell_type": "code",
   "execution_count": null,
   "metadata": {},
   "outputs": [],
   "source": [
    "# Описание функции\n",
    "def my_printer():\n",
    "    print(\"Строка которая не меняется\")\n",
    "\n",
    "# Вызовы функции\n",
    "my_printer()\n",
    "my_printer()\n",
    "my_printer()\n",
    "my_printer()"
   ]
  },
  {
   "cell_type": "markdown",
   "metadata": {},
   "source": [
    "Как видно, функция описывается один раз, и дальше её можно вызвать сколько угодно раз. \n",
    "\n",
    "При этом, чтобы менять поведение того, что внутри функции, в неё можно передавать данные (они называются аргументами):"
   ]
  },
  {
   "cell_type": "code",
   "execution_count": null,
   "metadata": {},
   "outputs": [],
   "source": [
    "def my_printer_with_name(name: str):\n",
    "    print(\"Строка, которая печатает разное. Например:\", name)\n",
    "\n",
    "my_printer_with_name(\"Биба\")\n",
    "my_printer_with_name(\"Боба\")"
   ]
  },
  {
   "cell_type": "markdown",
   "metadata": {},
   "source": [
    "И, наконец, из функции можно возвращать значения:"
   ]
  },
  {
   "cell_type": "code",
   "execution_count": null,
   "metadata": {},
   "outputs": [],
   "source": [
    "def gravitational_force(m1_kg: float, m2_kg: float, r_m: float) -> float:\n",
    "    G = 6.674e-11\n",
    "    force = G * m1_kg * m2_kg / r_m ** 2 \n",
    "\n",
    "    return force\n",
    "\n",
    "earth_mass = 5.972e24      # кг\n",
    "moon_mass = 7.348e22       # кг\n",
    "distance = 384400000       # м\n",
    "\n",
    "force_earth_moon = gravitational_force(earth_mass, moon_mass, distance)\n",
    "print(\"Сила притяжения между Землей и Луной:\", force_earth_moon, \"Н\")\n",
    "\n",
    "person1_mass = 70          # кг\n",
    "person2_mass = 80          # кг\n",
    "distance_people = 1        # м\n",
    "\n",
    "force_people = gravitational_force(person1_mass, person2_mass, distance_people)\n",
    "print(\"Сила притяжения между двумя людьми:\", force_people, \"Н\")"
   ]
  },
  {
   "cell_type": "markdown",
   "metadata": {},
   "source": [
    "Разберём теперь подробно, что именно происходит при описании функции:\n",
    "\n",
    "> `def gravitational_force(m1_kg: float, m2_kg: float, r_m: float) -> float:`\n",
    "\n",
    "- `def` - ключевое слово, говорящее \"дальше идёт описание функции\".\n",
    "\n",
    "- `gravitational_force` - имя функции, с которым оно будет дальше использоваться.\n",
    "\n",
    "- `m1_kg` - название первого аргумента.\n",
    "\n",
    "- `: float` - описание типа первого аргумента. Мы подсказываем Python, что внутри `m1_kg` будет лежать число с плавающей точкой.\n",
    "\n",
    "- `m2_kg: float` - название и описание типа второго аргумента. Внутри функции будет доступно число с плавающей запятой в переменной `m2_kg`.\n",
    "\n",
    "- `r_m: float` - название и описание типа первого аргумента. Внутри функции будет доступно число с плавающей запятой в переменной `r_m`.\n",
    "\n",
    "- `-> float` - подсказка с типом возвращаемого значения. Говорит, что эта функция возвращает число с плавающей точкой.\n",
    "\n",
    "То, что лежит внутри функции - обычный код на Python (произвольно сложный), кроме одной строки:\n",
    "\n",
    "- `return force` - ключевое слово, говорящее \"после этой строки функция больше не исполняется, возвращаемое значение - значение переменной `force`\"\n",
    "\n",
    "Внутри функций может быть сколько угодно `return`-ов:"
   ]
  },
  {
   "cell_type": "code",
   "execution_count": null,
   "metadata": {},
   "outputs": [],
   "source": [
    "def get_parity(number: int) -> str:\n",
    "    if number % 2 == 0:\n",
    "        return \"even\"\n",
    "    else:\n",
    "        return \"odd\"\n",
    "    \n",
    "print(get_parity(2))\n",
    "print(get_parity(101))"
   ]
  },
  {
   "cell_type": "markdown",
   "metadata": {},
   "source": [
    "<div class=\"alert alert-block alert-warning\" style=\"margin-top: 20px\">\n",
    "\n",
    "<font size=4>**Задание 2**</font>\n",
    "\n",
    "Дан список. Нужно написать функции для получения максимума и минимума в нём.\n",
    "\n",
    "*Использовать встроенные функции `min` и `max` нельзя - надо придумать свой алгоритм поиска минимума и максимума.*\n",
    "\n",
    "</div>"
   ]
  },
  {
   "cell_type": "code",
   "execution_count": null,
   "metadata": {},
   "outputs": [],
   "source": [
    "def get_max(lst: list[float]) -> float:\n",
    "    ...\n",
    "\n",
    "def get_min(lst: list[float]) -> float:\n",
    "    ...\n",
    "\n",
    "data = [825.65, 124.13, 345.97, 866.81, 13.77, 21.13, 149.56, 146.31, 563.35, 462.08, 693.3, 311.25]\n",
    "print(get_max(data))\n",
    "print(get_min(data))"
   ]
  },
  {
   "cell_type": "markdown",
   "metadata": {},
   "source": [
    "<div class=\"alert alert-block alert-warning\" style=\"margin-top: 20px\">\n",
    "\n",
    "<font size=4>**Задание 3**</font>\n",
    "\n",
    "Использовать функции выше для получения амплитуд звёзд из задания 1.\n",
    "\n",
    "</div>"
   ]
  },
  {
   "cell_type": "code",
   "execution_count": null,
   "metadata": {},
   "outputs": [],
   "source": [
    "..."
   ]
  },
  {
   "cell_type": "markdown",
   "metadata": {},
   "source": [
    "# Структуры\n",
    "\n",
    "Иногда нам может хотеться группировать данные. Пример - наблюдения телескопа. Такое мы уже можем делать словарями:"
   ]
  },
  {
   "cell_type": "code",
   "execution_count": 15,
   "metadata": {},
   "outputs": [],
   "source": [
    "observations = [\n",
    "    {\n",
    "        \"object\": \"NGC5123\",\n",
    "        \"timestamp\": \"2025-05-04 22:42:59\",\n",
    "        \"exposure\": 12.5,\n",
    "    },\n",
    "    {\n",
    "        \"object\": \"M31\",\n",
    "        \"timestamp\": \"2025-05-04 23:10:15\",\n",
    "        \"exposure\": 15.0,\n",
    "    },\n",
    "    {\n",
    "        \"object\": \"NGC2244\",\n",
    "        \"timestamp\": \"2025-05-05 00:05:42\",\n",
    "        \"exposure\": 10.0,\n",
    "    },\n",
    "    {\n",
    "        \"object\": \"M42\",\n",
    "        \"timestamp\": \"2025-05-05 01:20:30\",\n",
    "        \"exposure\": 18.2,\n",
    "    },\n",
    "    {\n",
    "        \"object\": \"NGC7000\",\n",
    "        \"timestamp\": \"2025-05-05 02:45:12\",\n",
    "        \"exposure\": 20.0,\n",
    "    },\n",
    "    {\n",
    "        \"object\": \"M51\",\n",
    "        \"timestamp\": \"2025-05-05 03:30:00\",\n",
    "        \"exposure\": 14.7,\n",
    "    }\n",
    "]"
   ]
  },
  {
   "cell_type": "markdown",
   "metadata": {},
   "source": [
    "Здесь список наблюдений, где каждое наблюдение - словарь, в котором есть заранее известный набор ключей - `object`, `timestamp`, `exposure`. Теперь если мы хотим проделать над этим какие-то операции, мы можем достаточно просто проитерироваться:"
   ]
  },
  {
   "cell_type": "code",
   "execution_count": null,
   "metadata": {},
   "outputs": [],
   "source": [
    "for obs in observations:\n",
    "    print(obs[\"object\"], \"was observed on\", obs[\"timestamp\"], \"with exposure\", obs[\"exposure\"])"
   ]
  },
  {
   "cell_type": "markdown",
   "metadata": {},
   "source": [
    "Тем не менее, у такого подхода есть набор минусов:\n",
    "\n",
    "- Очень легко опечататься - если мы где-то вставим не тот ключ (`ojbect` вместо `object`), то узнаем об этом только в момент обработки самих данных.\n",
    "- Нет подсказок от IDE.\n",
    "- Нужно писать много текста. Для каждого наблюдения нужно явным образом указывать все ключи.\n",
    "- Нет подсказок о типах данных по ключам.\n",
    "\n",
    "Если мы имеем такие однородные данные, нам могут помочь структуры (aka датаклассы):"
   ]
  },
  {
   "cell_type": "code",
   "execution_count": null,
   "metadata": {},
   "outputs": [],
   "source": [
    "from dataclasses import dataclass\n",
    "\n",
    "@dataclass\n",
    "class Observation:\n",
    "    object: str\n",
    "    timestamp: str\n",
    "    exposure: float\n",
    "\n",
    "obs1 = Observation(\"M42\", \"2025-05-05 01:20:30\", 18.2)\n",
    "obs2 = Observation(\"NGC7000\", \"2025-05-05 02:45:12\", 20.0)\n",
    "\n",
    "observations = [\n",
    "    obs1,\n",
    "    obs2,\n",
    "    Observation(\"M51\", \"2025-05-05 03:30:00\", 14.7),\n",
    "    Observation(\"M31\", \"2025-05-06 00:15:45\", 22.5),\n",
    "    Observation(\"NGC869\", \"2025-05-06 01:50:10\", 16.3),\n",
    "    Observation(\"M13\", \"2025-05-06 03:05:27\", 19.8)\n",
    "]\n",
    "\n",
    "for obs in observations:\n",
    "    print(obs.object, \"was observed on\", obs.timestamp, \"with exposure\", obs.exposure)"
   ]
  },
  {
   "cell_type": "markdown",
   "metadata": {},
   "source": [
    "Много чего написано! Посмотрим подробнее:\n",
    "\n",
    "> `from dataclasses import dataclass`\n",
    "\n",
    "Пока что можно игнорировать. Структуры просто так не доступны в коде (как доступны `print` или `input`), поэтому их нужно подключать извне. Подробнее эти строчки мы разберём на следующем занятии.\n",
    "\n",
    "> `@dataclass`\n",
    "\n",
    "Слово, говорящее \"дальше будет описание структуры данных\"\n",
    "\n",
    "> `class Observation:`\n",
    "\n",
    "- `class` - ключевое слово, говорящее \"структура данных будет называться так, как написано справа\".\n",
    "- `Observation` - название структуры данных. Может быть любым, обычно пишет с большой буквы.\n",
    "\n",
    "> `object: str`\n",
    "\n",
    "Описание первого поля структуры. Это поле будет называться `object` и будет содержать строку.\n",
    "\n",
    "> `timestamp: str`\n",
    "\n",
    "Описание второго поля структуры - будет называться `timestamp` и так же будет строкой.\n",
    "\n",
    "> `exposure: float`\n",
    "\n",
    "Третье поле структуры - называется `exposure`, является числом с плавающей точкой.\n",
    "\n",
    "На этом объявление структуры закончено, дальше идёт обычный код.\n",
    "\n",
    "> `obs1 = Observation(\"M42\", \"2025-05-05 01:20:30\", 18.2)`\n",
    "\n",
    "Объявление переменной, хранящей в себе объект структуры `Observation`. Это будет наблюдение объекта с именем `M42`, указанным временем наблюдения и экспозицией `18.2`. Вызов очень похож на вызов функции с тремя аргументами. Аргументы передаются в том же порядке, в каком они указаны внутри структуры.\n",
    "\n",
    "Дальше такие объекты можно использовать при помощи синтаксиса с точкой вместо квадратных скобок:\n",
    "\n",
    "> `print(obs.object, \"was observed on\", obs.timestamp, \"with exposure\", obs.exposure)`\n",
    "\n",
    "`obs[\"object\"]` заменяется на `obs.object`. Остальное - аналогично."
   ]
  },
  {
   "cell_type": "markdown",
   "metadata": {},
   "source": [
    "<div class=\"alert alert-block alert-warning\" style=\"margin-top: 20px\">\n",
    "\n",
    "<font size=4>**Задание 4**</font>\n",
    "\n",
    "Вывести время, когда реализовался максимум и минимум блеска всех трёх звёзд из задания 1.\n",
    "\n",
    "Для хранения наблюдений использовать структуру, хранящую время и блеск в каждый момент времени.\n",
    "\n",
    "</div>"
   ]
  },
  {
   "cell_type": "code",
   "execution_count": null,
   "metadata": {},
   "outputs": [],
   "source": [
    "..."
   ]
  }
 ],
 "metadata": {
  "kernelspec": {
   "display_name": ".venv",
   "language": "python",
   "name": "python3"
  },
  "language_info": {
   "codemirror_mode": {
    "name": "ipython",
    "version": 3
   },
   "file_extension": ".py",
   "mimetype": "text/x-python",
   "name": "python",
   "nbconvert_exporter": "python",
   "pygments_lexer": "ipython3",
   "version": "3.13.2"
  }
 },
 "nbformat": 4,
 "nbformat_minor": 2
}
