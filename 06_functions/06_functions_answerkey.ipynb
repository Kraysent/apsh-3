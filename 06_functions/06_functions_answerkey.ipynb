{
 "cells": [
  {
   "cell_type": "markdown",
   "metadata": {},
   "source": [
    "# Функции"
   ]
  },
  {
   "cell_type": "markdown",
   "metadata": {},
   "source": [
    "<div class=\"alert alert-block alert-warning\" style=\"margin-top: 20px\">\n",
    "\n",
    "<font size=4>**Задание 1**</font>     \n",
    "\n",
    "Внутри директории `data/` есть три файла - `star1.csv`, `star2.csv`, `star3.csv`. В них находятся наблюдения блесков трёх звёзд. Схема данных каждого файла следующая:\n",
    "- Первый столбец - время наблюдения\n",
    "- Второй столбец - яркость звезды в данный момент\n",
    "\n",
    "Нужно найти амплитуду блеска (aka разницу между максимумом и минимумом) всех трёх звёзд и вывести одной строкой, разделённые запятыми.\n",
    "\n",
    "</div>"
   ]
  },
  {
   "cell_type": "code",
   "execution_count": null,
   "metadata": {},
   "outputs": [],
   "source": [
    "files = [\"data/star1.csv\", \"data/star2.csv\", \"data/star3.csv\"]\n",
    "amplitudes = []\n",
    "\n",
    "for fname in files:\n",
    "    values = []\n",
    "    with open(fname) as f:\n",
    "        for line in f:\n",
    "            parts = line.split(\",\")\n",
    "            values.append(float(parts[1]))\n",
    "\n",
    "    amplitude = max(values) - min(values)\n",
    "    amplitudes.append(str(amplitude))\n",
    "\n",
    "print(amplitudes[0] + \",\" + amplitudes[1] + \",\" + amplitudes[2])"
   ]
  },
  {
   "cell_type": "markdown",
   "metadata": {},
   "source": [
    "В этом задании уже видно, что если нам нужно проделать одни и те же действия над несколькими объектами (в данном случае - файлами), то приходится дублировать код. Дублирование кода в большинстве случаев - плохо, потому что приводит к нескольким проблемам:\n",
    "\n",
    "- Такой код сложнее читать - мозг думает, что разные участки кода делают разные вещи и пытается вникнуть отдельно в каждый.\n",
    "- Если нужно добавить что-то новое, то изменение нужно копипастить в несколько мест\n",
    "\n",
    "Описать функцию можно своим специальным синтаксисом:"
   ]
  },
  {
   "cell_type": "code",
   "execution_count": null,
   "metadata": {},
   "outputs": [],
   "source": [
    "# Описание функции\n",
    "def my_printer():\n",
    "    print(\"Строка которая не меняется\")\n",
    "\n",
    "# Вызовы функции\n",
    "my_printer()\n",
    "my_printer()\n",
    "my_printer()\n",
    "my_printer()"
   ]
  },
  {
   "cell_type": "markdown",
   "metadata": {},
   "source": [
    "Как видно, функция описывается один раз, и дальше её можно вызвать сколько угодно раз. \n",
    "\n",
    "При этом, чтобы менять поведение того, что внутри функции, в неё можно передавать данные (они называются аргументами):"
   ]
  },
  {
   "cell_type": "code",
   "execution_count": null,
   "metadata": {},
   "outputs": [],
   "source": [
    "def my_printer_with_name(name: str):\n",
    "    print(\"Строка, которая печатает разное. Например:\", name)\n",
    "\n",
    "my_printer_with_name(\"Биба\")\n",
    "my_printer_with_name(\"Боба\")"
   ]
  },
  {
   "cell_type": "markdown",
   "metadata": {},
   "source": [
    "И, наконец, из функции можно возвращать значения:"
   ]
  },
  {
   "cell_type": "code",
   "execution_count": null,
   "metadata": {},
   "outputs": [],
   "source": [
    "def gravitational_force(m1_kg: float, m2_kg: float, r_m: float) -> float:\n",
    "    G = 6.674e-11\n",
    "    force = G * m1_kg * m2_kg / r_m ** 2 \n",
    "\n",
    "    return force\n",
    "\n",
    "earth_mass = 5.972e24      # кг\n",
    "moon_mass = 7.348e22       # кг\n",
    "distance = 384400000       # м\n",
    "\n",
    "force_earth_moon = gravitational_force(earth_mass, moon_mass, distance)\n",
    "print(\"Сила притяжения между Землей и Луной:\", force_earth_moon, \"Н\")\n",
    "\n",
    "person1_mass = 70          # кг\n",
    "person2_mass = 80          # кг\n",
    "distance_people = 1        # м\n",
    "\n",
    "force_people = gravitational_force(person1_mass, person2_mass, distance_people)\n",
    "print(\"Сила притяжения между двумя людьми:\", force_people, \"Н\")"
   ]
  },
  {
   "cell_type": "markdown",
   "metadata": {},
   "source": [
    "Разберём теперь подробно, что именно происходит при описании функции:\n",
    "\n",
    "> `def gravitational_force(m1_kg: float, m2_kg: float, r_m: float) -> float:`\n",
    "\n",
    "- `def` - ключевое слово, говорящее \"дальше идёт описание функции\".\n",
    "\n",
    "- `gravitational_force` - имя функции, с которым оно будет дальше использоваться.\n",
    "\n",
    "- `m1_kg` - название первого аргумента.\n",
    "\n",
    "- `: float` - описание типа первого аргумента. Мы подсказываем Python, что внутри `m1_kg` будет лежать число с плавающей точкой.\n",
    "\n",
    "- `m2_kg: float` - название и описание типа второго аргумента. Внутри функции будет доступно число с плавающей запятой в переменной `m2_kg`.\n",
    "\n",
    "- `r_m: float` - название и описание типа первого аргумента. Внутри функции будет доступно число с плавающей запятой в переменной `r_m`.\n",
    "\n",
    "- `-> float` - подсказка с типом возвращаемого значения. Говорит, что эта функция возвращает число с плавающей точкой.\n",
    "\n",
    "То, что лежит внутри функции - обычный код на Python (произвольно сложный), кроме одной строки:\n",
    "\n",
    "- `return force` - ключевое слово, говорящее \"после этой строки функция больше не исполняется, возвращаемое значение - значение переменной `force`\"\n",
    "\n",
    "Внутри функций может быть сколько угодно `return`-ов:"
   ]
  },
  {
   "cell_type": "code",
   "execution_count": null,
   "metadata": {},
   "outputs": [],
   "source": [
    "def get_parity(number: int) -> str:\n",
    "    if number % 2 == 0:\n",
    "        return \"even\"\n",
    "    else:\n",
    "        return \"odd\"\n",
    "    \n",
    "print(get_parity(2))\n",
    "print(get_parity(101))"
   ]
  },
  {
   "cell_type": "markdown",
   "metadata": {},
   "source": [
    "<div class=\"alert alert-block alert-warning\" style=\"margin-top: 20px\">\n",
    "\n",
    "<font size=4>**Задание 2**</font>\n",
    "\n",
    "Дан список. Нужно написать функции для получения максимума и минимума в нём.\n",
    "\n",
    "</div>"
   ]
  },
  {
   "cell_type": "code",
   "execution_count": null,
   "metadata": {},
   "outputs": [],
   "source": [
    "def get_max(lst: list[float]) -> float:\n",
    "    max_value = lst[0]\n",
    "    for item in lst[1:]:\n",
    "        if item > max_value:\n",
    "            max_value = item\n",
    "    return max_value\n",
    "\n",
    "def get_min(lst: list[float]) -> float:\n",
    "    min_value = lst[0]\n",
    "    for item in lst[1:]:\n",
    "        if item < min_value:\n",
    "            min_value = item\n",
    "    return min_value\n",
    "\n",
    "data = [825.65, 124.13, 345.97, 866.81, 13.77, 21.13, 149.56, 146.31, 563.35, 462.08, 693.3, 311.25]\n",
    "print(get_max(data))\n",
    "print(get_min(data))"
   ]
  },
  {
   "cell_type": "markdown",
   "metadata": {},
   "source": [
    "<div class=\"alert alert-block alert-warning\" style=\"margin-top: 20px\">\n",
    "\n",
    "<font size=4>**Задание 3**</font>\n",
    "\n",
    "Использовать функции выше для получения амплитуд звёзд из задания 1.\n",
    "\n",
    "</div>"
   ]
  },
  {
   "cell_type": "code",
   "execution_count": null,
   "metadata": {},
   "outputs": [],
   "source": [
    "def get_amplitude(lst: list[float]) -> float:\n",
    "    return get_max(lst) - get_min(lst)\n",
    "\n",
    "def read_star_data(filename: str) -> list[float]:\n",
    "    values = []\n",
    "    with open(filename) as f:\n",
    "        for line in f:\n",
    "            parts = line.strip().split(\",\")\n",
    "            if len(parts) == 2:\n",
    "                try:\n",
    "                    values.append(float(parts[1]))\n",
    "                except ValueError:\n",
    "                    continue\n",
    "    return values\n",
    "\n",
    "star1 = read_star_data(\"data/star1.csv\")\n",
    "star2 = read_star_data(\"data/star2.csv\")\n",
    "star3 = read_star_data(\"data/star3.csv\")\n",
    "\n",
    "print(get_amplitude(star1))\n",
    "print(get_amplitude(star2))\n",
    "print(get_amplitude(star3))"
   ]
  },
  {
   "cell_type": "markdown",
   "metadata": {},
   "source": [
    "# Структуры\n",
    "\n",
    "Иногда нам может хотеться группировать данные. Пример - наблюдения телескопа. Такое мы уже можем делать словарями:"
   ]
  },
  {
   "cell_type": "code",
   "execution_count": 15,
   "metadata": {},
   "outputs": [],
   "source": [
    "observations = [\n",
    "    {\n",
    "        \"object\": \"NGC5123\",\n",
    "        \"timestamp\": \"2025-05-04 22:42:59\",\n",
    "        \"exposure\": 12.5,\n",
    "    },\n",
    "    {\n",
    "        \"object\": \"M31\",\n",
    "        \"timestamp\": \"2025-05-04 23:10:15\",\n",
    "        \"exposure\": 15.0,\n",
    "    },\n",
    "    {\n",
    "        \"object\": \"NGC2244\",\n",
    "        \"timestamp\": \"2025-05-05 00:05:42\",\n",
    "        \"exposure\": 10.0,\n",
    "    },\n",
    "    {\n",
    "        \"object\": \"M42\",\n",
    "        \"timestamp\": \"2025-05-05 01:20:30\",\n",
    "        \"exposure\": 18.2,\n",
    "    },\n",
    "    {\n",
    "        \"object\": \"NGC7000\",\n",
    "        \"timestamp\": \"2025-05-05 02:45:12\",\n",
    "        \"exposure\": 20.0,\n",
    "    },\n",
    "    {\n",
    "        \"object\": \"M51\",\n",
    "        \"timestamp\": \"2025-05-05 03:30:00\",\n",
    "        \"exposure\": 14.7,\n",
    "    }\n",
    "]"
   ]
  },
  {
   "cell_type": "markdown",
   "metadata": {},
   "source": [
    "Здесь список наблюдений, где каждое наблюдение - словарь, в котором есть заранее известный набор ключей - `object`, `timestamp`, `exposure`. Теперь если мы хотим проделать над этим какие-то операции, мы можем достаточно просто проитерироваться:"
   ]
  },
  {
   "cell_type": "code",
   "execution_count": null,
   "metadata": {},
   "outputs": [],
   "source": [
    "for obs in observations:\n",
    "    print(obs[\"object\"], \"was observed on\", obs[\"timestamp\"], \"with exposure\", obs[\"exposure\"])"
   ]
  },
  {
   "cell_type": "markdown",
   "metadata": {},
   "source": [
    "Тем не менее, у такого подхода есть набор минусов:\n",
    "\n",
    "- Очень легко опечататься - если мы где-то вставим не тот ключ (`ojbect` вместо `object`), то узнаем об этом только в момент обработки самих данных.\n",
    "- Нет подсказок от IDE.\n",
    "- Нужно писать много текста. Для каждого наблюдения нужно явным образом указывать все ключи.\n",
    "- Нет подсказок о типах данных по ключам.\n",
    "\n",
    "Если мы имеем такие однородные данные, нам могут помочь структуры (aka датаклассы):"
   ]
  },
  {
   "cell_type": "code",
   "execution_count": null,
   "metadata": {},
   "outputs": [],
   "source": [
    "from dataclasses import dataclass\n",
    "\n",
    "@dataclass\n",
    "class Observation:\n",
    "    object: str\n",
    "    timestamp: str\n",
    "    exposure: float\n",
    "\n",
    "obs1 = Observation(\"M42\", \"2025-05-05 01:20:30\", 18.2)\n",
    "obs2 = Observation(\"NGC7000\", \"2025-05-05 02:45:12\", 20.0)\n",
    "\n",
    "observations = [\n",
    "    obs1,\n",
    "    obs2,\n",
    "    Observation(\"M51\", \"2025-05-05 03:30:00\", 14.7),\n",
    "    Observation(\"M31\", \"2025-05-06 00:15:45\", 22.5),\n",
    "    Observation(\"NGC869\", \"2025-05-06 01:50:10\", 16.3),\n",
    "    Observation(\"M13\", \"2025-05-06 03:05:27\", 19.8)\n",
    "]\n",
    "\n",
    "for obs in observations:\n",
    "    print(obs.object, \"was observed on\", obs.timestamp, \"with exposure\", obs.exposure)"
   ]
  },
  {
   "cell_type": "markdown",
   "metadata": {},
   "source": [
    "Много чего написано! Посмотрим подробнее:\n",
    "\n",
    "> `from dataclasses import dataclass`\n",
    "\n",
    "Пока что можно игнорировать. Структуры просто так не доступны в коде (как доступны `print` или `input`), поэтому их нужно подключать извне. Подробнее эти строчки мы разберём на следующем занятии.\n",
    "\n",
    "> `@dataclass`\n",
    "\n",
    "Слово, говорящее \"дальше будет описание структуры данных\"\n",
    "\n",
    "> `class Observation:`\n",
    "\n",
    "- `class` - ключевое слово, говорящее \"структура данных будет называться так, как написано справа\".\n",
    "- `Observation` - название структуры данных. Может быть любым, обычно пишет с большой буквы.\n",
    "\n",
    "> `object: str`\n",
    "\n",
    "Описание первого поля структуры. Это поле будет называться `object` и будет содержать строку.\n",
    "\n",
    "> `timestamp: str`\n",
    "\n",
    "Описание второго поля структуры - будет называться `timestamp` и так же будет строкой.\n",
    "\n",
    "> `exposure: float`\n",
    "\n",
    "Третье поле структуры - называется `exposure`, является числом с плавающей точкой.\n",
    "\n",
    "На этом объявление структуры закончено, дальше идёт обычный код.\n",
    "\n",
    "> `obs1 = Observation(\"M42\", \"2025-05-05 01:20:30\", 18.2)`\n",
    "\n",
    "Объявление переменной, хранящей в себе объект структуры `Observation`. Это будет наблюдение объекта с именем `M42`, указанным временем наблюдения и экспозицией `18.2`. Вызов очень похож на вызов функции с тремя аргументами. Аргументы передаются в том же порядке, в каком они указаны внутри структуры.\n",
    "\n",
    "Дальше такие объекты можно использовать при помощи синтаксиса с точкой вместо квадратных скобок:\n",
    "\n",
    "> `print(obs.object, \"was observed on\", obs.timestamp, \"with exposure\", obs.exposure)`\n",
    "\n",
    "`obs[\"object\"]` заменяется на `obs.object`. Остальное - аналогично."
   ]
  },
  {
   "cell_type": "markdown",
   "metadata": {},
   "source": [
    "<div class=\"alert alert-block alert-warning\" style=\"margin-top: 20px\">\n",
    "\n",
    "<font size=4>**Задание 4**</font>\n",
    "\n",
    "Вывести время, когда реализовался максимум и минимум блеска всех трёх звёзд из задания 1.\n",
    "\n",
    "Для хранения наблюдений использовать структуру, хранящую время и блеск в каждый момент времени.\n",
    "\n",
    "</div>"
   ]
  },
  {
   "cell_type": "code",
   "execution_count": 17,
   "metadata": {},
   "outputs": [
    {
     "name": "stdout",
     "output_type": "stream",
     "text": [
      "Min magnitude at 2024-01-10 09:16:40.268456 | magnitude 10.60243414228243\n",
      "Min magnitude at 2024-01-08 04:30:36.241611 | magnitude 12.374436494285334\n",
      "\n",
      "Min magnitude at 2024-01-02 02:40:25.771812 | magnitude 8.853653332852627\n",
      "Min magnitude at 2024-01-02 17:45:01.208054 | magnitude 10.193881500206954\n",
      "\n",
      "Min magnitude at 2024-08-09 11:26:10.469799 | magnitude -3.950892722477671\n",
      "Min magnitude at 2024-06-22 03:42:16.912752 | magnitude -0.024373475474043116\n",
      "\n"
     ]
    }
   ],
   "source": [
    "from dataclasses import dataclass\n",
    "\n",
    "@dataclass\n",
    "class StarObservation:\n",
    "    timestamp: str\n",
    "    magnitude: float\n",
    "\n",
    "def read_star_observations(filename: str) -> list[StarObservation]:\n",
    "    observations: list[StarObservation] = []\n",
    "    with open(filename) as f:\n",
    "        for line in f:\n",
    "            timestamp, magnitude = line.split(\",\")\n",
    "            observations.append(StarObservation(timestamp, float(magnitude)))\n",
    "    \n",
    "    return observations\n",
    "\n",
    "star1 = read_star_observations(\"data/star1.csv\")\n",
    "star2 = read_star_observations(\"data/star2.csv\")\n",
    "star3 = read_star_observations(\"data/star3.csv\")\n",
    "\n",
    "def find_min_max(observations: list[StarObservation]) -> tuple:\n",
    "    min_obs = observations[0]\n",
    "    max_obs = observations[0]\n",
    "    for obs in observations:\n",
    "        if obs.magnitude < min_obs.magnitude:\n",
    "            min_obs = obs\n",
    "        if obs.magnitude > max_obs.magnitude:\n",
    "            max_obs = obs\n",
    "    return min_obs, max_obs\n",
    "\n",
    "for star in [star1, star2, star3]:\n",
    "    min_obs, max_obs = find_min_max(star)\n",
    "    \n",
    "    print(\"Min magnitude at\", min_obs.timestamp, \"| magnitude\", min_obs.magnitude)\n",
    "    print(\"Min magnitude at\", max_obs.timestamp, \"| magnitude\", max_obs.magnitude)\n",
    "    print()"
   ]
  }
 ],
 "metadata": {
  "kernelspec": {
   "display_name": ".venv",
   "language": "python",
   "name": "python3"
  },
  "language_info": {
   "codemirror_mode": {
    "name": "ipython",
    "version": 3
   },
   "file_extension": ".py",
   "mimetype": "text/x-python",
   "name": "python",
   "nbconvert_exporter": "python",
   "pygments_lexer": "ipython3",
   "version": "3.13.2"
  }
 },
 "nbformat": 4,
 "nbformat_minor": 2
}
