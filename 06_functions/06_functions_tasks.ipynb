{
 "cells": [
  {
   "cell_type": "markdown",
   "metadata": {},
   "source": [
    "<div class=\"alert alert-block alert-warning\" style=\"margin-top: 20px\">\n",
    "\n",
    "<font size=4>**Задание 1**</font>\n",
    "\n",
    "Придумать свой текстовый формат данных, который сможет сохранять табличные данных. Табличные данные представлены в виде нескольких списков, хранящих численные или значения. В частности, нужно реализовать две функции - одна для запись в формат, другая для чтения.\n",
    "\n",
    "</div>"
   ]
  },
  {
   "cell_type": "code",
   "execution_count": null,
   "metadata": {},
   "outputs": [],
   "source": [
    "def write_custom_format(filename: str, data: list[list]):\n",
    "    pass\n",
    "\n",
    "def read_custom_format(filename: str) -> list[list]:\n",
    "    pass\n",
    "\n",
    "table_data = [\n",
    "    [1, 2, 3, 4],\n",
    "    [1.1, 2.2, 3.3, 4.4],\n",
    "    [\"apple\", \"banana\", \"pear\", \"kiwi\"],\n",
    "    [\"A\", \"B\", \"C\", \"D\"]\n",
    "]\n",
    "\n",
    "write_custom_format(\"data/my_table.my_format\", table_data)\n",
    "print(read_custom_format(\"data/my_table.my_format\"))"
   ]
  },
  {
   "cell_type": "markdown",
   "metadata": {},
   "source": [
    "<div class=\"alert alert-block alert-warning\" style=\"margin-top: 20px\">\n",
    "\n",
    "<font size=4>**Задание 2**</font>\n",
    "\n",
    "Написать функцию для сжатия строки. Например, дана строка `aaabbccccd`, нужно сжать её в строку `a3b2c4d1`. Цифра после каждой буквы - число раз, которое эта буква идёт подряд в этой строке.\n",
    "\n",
    "Примечание: по символам троки можно итерироваться так же, как по элементам списка:\n",
    "\n",
    "```python\n",
    "for c in \"oneTwoThree\":\n",
    "    print(c)\n",
    "```\n",
    "\n",
    "</div>"
   ]
  },
  {
   "cell_type": "code",
   "execution_count": null,
   "metadata": {},
   "outputs": [],
   "source": [
    "..."
   ]
  }
 ],
 "metadata": {
  "kernelspec": {
   "display_name": ".venv",
   "language": "python",
   "name": "python3"
  },
  "language_info": {
   "codemirror_mode": {
    "name": "ipython",
    "version": 3
   },
   "file_extension": ".py",
   "mimetype": "text/x-python",
   "name": "python",
   "nbconvert_exporter": "python",
   "pygments_lexer": "ipython3",
   "version": "3.13.2"
  }
 },
 "nbformat": 4,
 "nbformat_minor": 2
}
