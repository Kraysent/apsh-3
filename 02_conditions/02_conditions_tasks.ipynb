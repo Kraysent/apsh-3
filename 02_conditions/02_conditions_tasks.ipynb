{
 "cells": [
  {
   "cell_type": "markdown",
   "metadata": {},
   "source": [
    "<div class=\"alert alert-block alert-warning\" style=\"margin-top: 20px\">\n",
    "\n",
    "<font size=4>**Задание 1**</font>\n",
    "\n",
    "Вычислить цену билета в кино с учётом всех льгот. Список льгот:\n",
    "- Пенсионеры старше 65 лет - бесплатно\n",
    "- Дети до 7 лет - бесплатно\n",
    "- Подростки 7 - 17 лет - 200 рублей\n",
    "- Взрослые - 250 рублей\n",
    "\n",
    "Так же есть скидка для студентов - если человеку с 17 до 25 лет и у него есть студенческий билет, то билет становится дешевле на 150 рублей.\n",
    "\n",
    "Возраст и наличие студенческого нужно запросить у пользователя.\n",
    "\n",
    "</div>"
   ]
  },
  {
   "cell_type": "code",
   "execution_count": null,
   "metadata": {
    "vscode": {
     "languageId": "plaintext"
    }
   },
   "outputs": [],
   "source": [
    "..."
   ]
  },
  {
   "cell_type": "markdown",
   "metadata": {},
   "source": [
    "<div class=\"alert alert-block alert-warning\" style=\"margin-top: 20px\">\n",
    "\n",
    "<font size=4>**Задание 2**</font>\n",
    "\n",
    "Запросить у пользователя три стороны треугольника и вывести тип получившегося треугольника:\n",
    "- Равносторонний, если все три стороны равны\n",
    "- Равнобедренный, если равны какие-то две стороны\n",
    "- Обычный\n",
    "- Не треугольник, если это невалидный треугольник\n",
    "\n",
    "</div>"
   ]
  },
  {
   "cell_type": "code",
   "execution_count": null,
   "metadata": {
    "vscode": {
     "languageId": "plaintext"
    }
   },
   "outputs": [],
   "source": [
    "a = ...\n",
    "b = ...\n",
    "c = ...\n",
    "\n",
    "..."
   ]
  }
 ],
 "metadata": {
  "language_info": {
   "name": "python"
  }
 },
 "nbformat": 4,
 "nbformat_minor": 2
}
