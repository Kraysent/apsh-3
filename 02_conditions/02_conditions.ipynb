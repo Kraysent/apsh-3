{
 "cells": [
  {
   "cell_type": "markdown",
   "metadata": {},
   "source": [
    "# Условия и ветвление\n",
    "\n",
    "До сих пор мы писали простые программы, где код исполняется сверху вниз, одна строчка за другой без пропусков. Это уже позволяет решить достаточно широкий спектр задач. Например, вычисление любой формулы, переводы единиц измерения друг в друга и простая реакция на вывод пользователя - всё это решается уже теми способами, которые мы описали выше.\n",
    "\n",
    "Тем не менее, есть набор интересных нам задач, в которых поведение программы хочется менять в зависимости от разных условий, к примеру - ввода пользователя. Для такого есть специальное ключевое слово `if`, открывающее целый спектр возможностей для нас. Пример:"
   ]
  },
  {
   "cell_type": "code",
   "execution_count": 3,
   "metadata": {},
   "outputs": [
    {
     "name": "stdout",
     "output_type": "stream",
     "text": [
      "5 7\n",
      "Очень меньше\n",
      "Текст.\n"
     ]
    }
   ],
   "source": [
    "a = 5\n",
    "b = 7\n",
    "\n",
    "print(a, b)\n",
    "\n",
    "if a < b:\n",
    "    print(\"Очень меньше\")\n",
    "\n",
    "print(\"Текст.\")"
   ]
  },
  {
   "cell_type": "markdown",
   "metadata": {},
   "source": [
    "В примере выше попробуйте поменять значения `a` и `b` и посмотрите, как меняется вывод.\n",
    "\n",
    "Синтаксис простой: \n",
    "\n",
    "```python\n",
    "<действия до условия>\n",
    "\n",
    "if <условие>:\n",
    "    <действие, которое будет выполнено только если условие выполнено>\n",
    "\n",
    "<действие после условия>\n",
    "```\n",
    "\n",
    "Тут надо заодно сказать про отступы. Чтобы Python мог отличить, что под условием, а что - нет, используются отступы слева, равные (обычно) 4 пробелам. Сделать такой отступ можно нажатием `Tab` на клавиатуре.\n",
    "\n",
    "Условия можно делать большим числом способов, например:\n",
    "\n",
    "- `a > 5` - больше\n",
    "- `a >= 1 + 4` - больше, либо равно\n",
    "- `a < b - 1` - меньше\n",
    "- `a <= 2 * b + a ** 2` - меньше, либо равно\n",
    "- `35 + 1 / b == a` - равно. *Обратите внимание, что знака равенства - два. Одиночный знак равенства отвечает за присваивание переменной значения, см. прошлую лекцию.*\n",
    "- `b != a` - не равно\n",
    "\n",
    "Условия так же могут быть составными:\n",
    "- `5 < a < 10` будет выполнено, если a находит в промежутке между 5 и 10\n",
    "\n",
    "Условия так же могут быть вложенными. Например:"
   ]
  },
  {
   "cell_type": "code",
   "execution_count": 9,
   "metadata": {},
   "outputs": [
    {
     "name": "stdout",
     "output_type": "stream",
     "text": [
      "a содержит букву П\n",
      "b тоже содержит букву П\n"
     ]
    }
   ],
   "source": [
    "a = \"Прив\"\n",
    "b = \"Пока\"\n",
    "\n",
    "if \"П\" in a:     # in позволяет делать условия вида \"строка\" содержится в \"строка\". Уберите букву \"П\" из строк выше, чтобы увидеть это.\n",
    "    print(\"a содержит букву П\")\n",
    "\n",
    "    if \"П\" in b:\n",
    "        print(\"b тоже содержит букву П\")"
   ]
  },
  {
   "cell_type": "markdown",
   "metadata": {},
   "source": [
    "<div class=\"alert alert-block alert-warning\" style=\"margin-top: 20px\">\n",
    "\n",
    "<font size=4>**Задание 1**</font>\n",
    "\n",
    "Дана температура звезды. Вывести её спектральный класс.\n",
    "\n",
    "Таблица соответствий между температурами и спектральными классами:\n",
    "\n",
    "| Spectral class | Temperature |\n",
    "|:--------------:|:-----------:|\n",
    "|  O  |     30000+    |\n",
    "|  B  |     9700 - 30000    |\n",
    "|  A  |     7200 - 9700    |\n",
    "|  F  |     5700 - 7200    |\n",
    "|  G  |     4900 - 5700    |\n",
    "|  K  |     3400 - 4900    |\n",
    "|  M  |     2100 - 3400    |\n",
    "\n",
    "</div>"
   ]
  },
  {
   "cell_type": "code",
   "execution_count": 10,
   "metadata": {},
   "outputs": [
    {
     "data": {
      "text/plain": [
       "Ellipsis"
      ]
     },
     "execution_count": 10,
     "metadata": {},
     "output_type": "execute_result"
    }
   ],
   "source": [
    "temp = float(input())\n",
    "\n",
    "..."
   ]
  },
  {
   "cell_type": "markdown",
   "metadata": {},
   "source": [
    "Часто нужно сделать действие вида \"если условие выполнено, сделай это, иначе - что-то другое\". Это слово \"иначе\" можно преобразовать в код при помощи `else` (поменяйте тут `a` и `b` на что-то другое):"
   ]
  },
  {
   "cell_type": "code",
   "execution_count": 11,
   "metadata": {},
   "outputs": [
    {
     "name": "stdout",
     "output_type": "stream",
     "text": [
      "Делится\n"
     ]
    }
   ],
   "source": [
    "a = 75\n",
    "b = 25\n",
    "\n",
    "if a % b == 0: # Напоминание: это - оператор получения остатка от деления\n",
    "    print(\"Делится\")\n",
    "else:\n",
    "    print(\"Не делится\")"
   ]
  },
  {
   "cell_type": "markdown",
   "metadata": {},
   "source": [
    "Внутрь else так же можно вкладывать конструкции произвольной сложности:"
   ]
  },
  {
   "cell_type": "code",
   "execution_count": 16,
   "metadata": {},
   "outputs": [
    {
     "name": "stdout",
     "output_type": "stream",
     "text": [
      "dataset contains floating point numbers\n"
     ]
    }
   ],
   "source": [
    "dataset = \"\"\"x,y,z\n",
    "34.5,93,22\n",
    "1,843.47,6213\n",
    "\"\"\"\n",
    "\n",
    "if \",\" not in dataset: # not in - не содержит\n",
    "    print(\"unknown dataset\")\n",
    "else:\n",
    "    if \"x,y,z\" not in dataset:\n",
    "        print(\"dataset may or may not have coordinates\")\n",
    "    else:\n",
    "        if \".\" in dataset:\n",
    "            print(\"dataset contains floating point numbers\")\n"
   ]
  },
  {
   "cell_type": "markdown",
   "metadata": {},
   "source": [
    "Код, который написан выше, уже становится сложно читать, не правда ли? Есть конструкция `elif` (\"else if\"), позволяющая цеплять друг за другом несколько условий, из которых выполнится только одно:"
   ]
  },
  {
   "cell_type": "code",
   "execution_count": 17,
   "metadata": {},
   "outputs": [
    {
     "name": "stdout",
     "output_type": "stream",
     "text": [
      "dataset contains floating point numbers\n"
     ]
    }
   ],
   "source": [
    "if \",\" not in dataset:\n",
    "    print(\"unknown dataset\")\n",
    "elif \"x,y,z\" not in dataset:\n",
    "    print(\"dataset may or may not have coordinates\")\n",
    "elif \".\" in dataset:\n",
    "    print(\"dataset contains floating point numbers\")"
   ]
  },
  {
   "cell_type": "markdown",
   "metadata": {},
   "source": [
    "Так же как и `if`, `elif` работает с произвольными условиями:"
   ]
  },
  {
   "cell_type": "code",
   "execution_count": 18,
   "metadata": {},
   "outputs": [
    {
     "name": "stdout",
     "output_type": "stream",
     "text": [
      "строка\n"
     ]
    }
   ],
   "source": [
    "a = 500\n",
    "b = 700\n",
    "c = \"строка\"\n",
    "\n",
    "if a < b:\n",
    "    print(c)\n",
    "elif a > 499:\n",
    "    print(b, c)\n",
    "elif c == \"строка\":\n",
    "    print(\"равны\")\n",
    "else:\n",
    "    print(\"ну тут я не понимаю чего делать\")\n"
   ]
  },
  {
   "cell_type": "markdown",
   "metadata": {},
   "source": [
    "<div class=\"alert alert-block alert-warning\" style=\"margin-top: 20px\">\n",
    "\n",
    "<font size=4>**Задание 2**</font>\n",
    "\n",
    "Калькулятор!\n",
    "\n",
    "Даны два целых числа и оператор, введённые пользователем, нужно вывести результат операции. Нужно поддержать:\n",
    "- оператор сложения (`+`)\n",
    "- оператор вычитания (`-`)\n",
    "- оператор умножения (`*`)\n",
    "- оператор деления (`/`)\n",
    "\n",
    "Если оператор неизвестный, нужно сказать об этом пользователю.\n",
    "\n",
    "Если идёте на опережение:\n",
    "- оператор остатка от деления (`%`)\n",
    "- оператор целочисленного деления (`//`)\n",
    "- оператор возведения в степень (`^`)\n",
    "\n",
    "</div>"
   ]
  },
  {
   "cell_type": "code",
   "execution_count": null,
   "metadata": {},
   "outputs": [],
   "source": [
    "a1 = int(input())\n",
    "a2 = int(input())\n",
    "op = input()\n",
    "\n",
    "..."
   ]
  }
 ],
 "metadata": {
  "kernelspec": {
   "display_name": ".venv",
   "language": "python",
   "name": "python3"
  },
  "language_info": {
   "codemirror_mode": {
    "name": "ipython",
    "version": 3
   },
   "file_extension": ".py",
   "mimetype": "text/x-python",
   "name": "python",
   "nbconvert_exporter": "python",
   "pygments_lexer": "ipython3",
   "version": "3.13.2"
  }
 },
 "nbformat": 4,
 "nbformat_minor": 2
}
